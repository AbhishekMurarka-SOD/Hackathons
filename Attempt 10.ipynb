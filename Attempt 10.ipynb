{
 "cells": [
  {
   "cell_type": "code",
   "execution_count": 9,
   "metadata": {},
   "outputs": [],
   "source": [
    "import pandas as pd\n",
    "import numpy as np\n",
    "import matplotlib.pyplot as plt\n",
    "import warnings\n",
    "import seaborn as sns\n",
    "warnings.filterwarnings('ignore')"
   ]
  },
  {
   "cell_type": "code",
   "execution_count": 10,
   "metadata": {},
   "outputs": [
    {
     "data": {
      "text/html": [
       "<div>\n",
       "<style scoped>\n",
       "    .dataframe tbody tr th:only-of-type {\n",
       "        vertical-align: middle;\n",
       "    }\n",
       "\n",
       "    .dataframe tbody tr th {\n",
       "        vertical-align: top;\n",
       "    }\n",
       "\n",
       "    .dataframe thead th {\n",
       "        text-align: right;\n",
       "    }\n",
       "</style>\n",
       "<table border=\"1\" class=\"dataframe\">\n",
       "  <thead>\n",
       "    <tr style=\"text-align: right;\">\n",
       "      <th></th>\n",
       "      <th>ID</th>\n",
       "      <th>City_Code</th>\n",
       "      <th>Region_Code</th>\n",
       "      <th>Accomodation_Type</th>\n",
       "      <th>Reco_Insurance_Type</th>\n",
       "      <th>Upper_Age</th>\n",
       "      <th>Lower_Age</th>\n",
       "      <th>Is_Spouse</th>\n",
       "      <th>Health Indicator</th>\n",
       "      <th>Holding_Policy_Duration</th>\n",
       "      <th>Holding_Policy_Type</th>\n",
       "      <th>Reco_Policy_Cat</th>\n",
       "      <th>Reco_Policy_Premium</th>\n",
       "      <th>Response</th>\n",
       "    </tr>\n",
       "  </thead>\n",
       "  <tbody>\n",
       "    <tr>\n",
       "      <th>0</th>\n",
       "      <td>1</td>\n",
       "      <td>C3</td>\n",
       "      <td>3213</td>\n",
       "      <td>Rented</td>\n",
       "      <td>Individual</td>\n",
       "      <td>36</td>\n",
       "      <td>36</td>\n",
       "      <td>No</td>\n",
       "      <td>X1</td>\n",
       "      <td>14+</td>\n",
       "      <td>3.0</td>\n",
       "      <td>22</td>\n",
       "      <td>11628.0</td>\n",
       "      <td>0</td>\n",
       "    </tr>\n",
       "    <tr>\n",
       "      <th>1</th>\n",
       "      <td>2</td>\n",
       "      <td>C5</td>\n",
       "      <td>1117</td>\n",
       "      <td>Owned</td>\n",
       "      <td>Joint</td>\n",
       "      <td>75</td>\n",
       "      <td>22</td>\n",
       "      <td>No</td>\n",
       "      <td>X2</td>\n",
       "      <td>NaN</td>\n",
       "      <td>NaN</td>\n",
       "      <td>22</td>\n",
       "      <td>30510.0</td>\n",
       "      <td>0</td>\n",
       "    </tr>\n",
       "    <tr>\n",
       "      <th>2</th>\n",
       "      <td>3</td>\n",
       "      <td>C5</td>\n",
       "      <td>3732</td>\n",
       "      <td>Owned</td>\n",
       "      <td>Individual</td>\n",
       "      <td>32</td>\n",
       "      <td>32</td>\n",
       "      <td>No</td>\n",
       "      <td>NaN</td>\n",
       "      <td>1.0</td>\n",
       "      <td>1.0</td>\n",
       "      <td>19</td>\n",
       "      <td>7450.0</td>\n",
       "      <td>1</td>\n",
       "    </tr>\n",
       "    <tr>\n",
       "      <th>3</th>\n",
       "      <td>4</td>\n",
       "      <td>C24</td>\n",
       "      <td>4378</td>\n",
       "      <td>Owned</td>\n",
       "      <td>Joint</td>\n",
       "      <td>52</td>\n",
       "      <td>48</td>\n",
       "      <td>No</td>\n",
       "      <td>X1</td>\n",
       "      <td>14+</td>\n",
       "      <td>3.0</td>\n",
       "      <td>19</td>\n",
       "      <td>17780.0</td>\n",
       "      <td>0</td>\n",
       "    </tr>\n",
       "    <tr>\n",
       "      <th>4</th>\n",
       "      <td>5</td>\n",
       "      <td>C8</td>\n",
       "      <td>2190</td>\n",
       "      <td>Rented</td>\n",
       "      <td>Individual</td>\n",
       "      <td>44</td>\n",
       "      <td>44</td>\n",
       "      <td>No</td>\n",
       "      <td>X2</td>\n",
       "      <td>3.0</td>\n",
       "      <td>1.0</td>\n",
       "      <td>16</td>\n",
       "      <td>10404.0</td>\n",
       "      <td>0</td>\n",
       "    </tr>\n",
       "    <tr>\n",
       "      <th>5</th>\n",
       "      <td>6</td>\n",
       "      <td>C9</td>\n",
       "      <td>1785</td>\n",
       "      <td>Rented</td>\n",
       "      <td>Individual</td>\n",
       "      <td>52</td>\n",
       "      <td>52</td>\n",
       "      <td>No</td>\n",
       "      <td>X2</td>\n",
       "      <td>5.0</td>\n",
       "      <td>1.0</td>\n",
       "      <td>22</td>\n",
       "      <td>15264.0</td>\n",
       "      <td>1</td>\n",
       "    </tr>\n",
       "    <tr>\n",
       "      <th>6</th>\n",
       "      <td>7</td>\n",
       "      <td>C3</td>\n",
       "      <td>679</td>\n",
       "      <td>Owned</td>\n",
       "      <td>Individual</td>\n",
       "      <td>28</td>\n",
       "      <td>28</td>\n",
       "      <td>No</td>\n",
       "      <td>NaN</td>\n",
       "      <td>NaN</td>\n",
       "      <td>NaN</td>\n",
       "      <td>17</td>\n",
       "      <td>10640.0</td>\n",
       "      <td>0</td>\n",
       "    </tr>\n",
       "    <tr>\n",
       "      <th>7</th>\n",
       "      <td>8</td>\n",
       "      <td>C1</td>\n",
       "      <td>3175</td>\n",
       "      <td>Owned</td>\n",
       "      <td>Joint</td>\n",
       "      <td>75</td>\n",
       "      <td>73</td>\n",
       "      <td>Yes</td>\n",
       "      <td>X4</td>\n",
       "      <td>9.0</td>\n",
       "      <td>4.0</td>\n",
       "      <td>17</td>\n",
       "      <td>29344.0</td>\n",
       "      <td>1</td>\n",
       "    </tr>\n",
       "    <tr>\n",
       "      <th>8</th>\n",
       "      <td>9</td>\n",
       "      <td>C15</td>\n",
       "      <td>3497</td>\n",
       "      <td>Owned</td>\n",
       "      <td>Joint</td>\n",
       "      <td>52</td>\n",
       "      <td>43</td>\n",
       "      <td>No</td>\n",
       "      <td>X1</td>\n",
       "      <td>14.0</td>\n",
       "      <td>3.0</td>\n",
       "      <td>1</td>\n",
       "      <td>27283.2</td>\n",
       "      <td>0</td>\n",
       "    </tr>\n",
       "    <tr>\n",
       "      <th>9</th>\n",
       "      <td>10</td>\n",
       "      <td>C1</td>\n",
       "      <td>530</td>\n",
       "      <td>Owned</td>\n",
       "      <td>Joint</td>\n",
       "      <td>59</td>\n",
       "      <td>26</td>\n",
       "      <td>Yes</td>\n",
       "      <td>NaN</td>\n",
       "      <td>7.0</td>\n",
       "      <td>4.0</td>\n",
       "      <td>18</td>\n",
       "      <td>21100.8</td>\n",
       "      <td>1</td>\n",
       "    </tr>\n",
       "  </tbody>\n",
       "</table>\n",
       "</div>"
      ],
      "text/plain": [
       "   ID City_Code  Region_Code Accomodation_Type Reco_Insurance_Type  Upper_Age  \\\n",
       "0   1        C3         3213            Rented          Individual         36   \n",
       "1   2        C5         1117             Owned               Joint         75   \n",
       "2   3        C5         3732             Owned          Individual         32   \n",
       "3   4       C24         4378             Owned               Joint         52   \n",
       "4   5        C8         2190            Rented          Individual         44   \n",
       "5   6        C9         1785            Rented          Individual         52   \n",
       "6   7        C3          679             Owned          Individual         28   \n",
       "7   8        C1         3175             Owned               Joint         75   \n",
       "8   9       C15         3497             Owned               Joint         52   \n",
       "9  10        C1          530             Owned               Joint         59   \n",
       "\n",
       "   Lower_Age Is_Spouse Health Indicator Holding_Policy_Duration  \\\n",
       "0         36        No               X1                     14+   \n",
       "1         22        No               X2                     NaN   \n",
       "2         32        No              NaN                     1.0   \n",
       "3         48        No               X1                     14+   \n",
       "4         44        No               X2                     3.0   \n",
       "5         52        No               X2                     5.0   \n",
       "6         28        No              NaN                     NaN   \n",
       "7         73       Yes               X4                     9.0   \n",
       "8         43        No               X1                    14.0   \n",
       "9         26       Yes              NaN                     7.0   \n",
       "\n",
       "   Holding_Policy_Type  Reco_Policy_Cat  Reco_Policy_Premium  Response  \n",
       "0                  3.0               22              11628.0         0  \n",
       "1                  NaN               22              30510.0         0  \n",
       "2                  1.0               19               7450.0         1  \n",
       "3                  3.0               19              17780.0         0  \n",
       "4                  1.0               16              10404.0         0  \n",
       "5                  1.0               22              15264.0         1  \n",
       "6                  NaN               17              10640.0         0  \n",
       "7                  4.0               17              29344.0         1  \n",
       "8                  3.0                1              27283.2         0  \n",
       "9                  4.0               18              21100.8         1  "
      ]
     },
     "execution_count": 10,
     "metadata": {},
     "output_type": "execute_result"
    }
   ],
   "source": [
    "train_df=pd.read_csv(\"train.csv\")\n",
    "train_df.head(10)"
   ]
  },
  {
   "cell_type": "code",
   "execution_count": 11,
   "metadata": {},
   "outputs": [
    {
     "data": {
      "text/html": [
       "<div>\n",
       "<style scoped>\n",
       "    .dataframe tbody tr th:only-of-type {\n",
       "        vertical-align: middle;\n",
       "    }\n",
       "\n",
       "    .dataframe tbody tr th {\n",
       "        vertical-align: top;\n",
       "    }\n",
       "\n",
       "    .dataframe thead th {\n",
       "        text-align: right;\n",
       "    }\n",
       "</style>\n",
       "<table border=\"1\" class=\"dataframe\">\n",
       "  <thead>\n",
       "    <tr style=\"text-align: right;\">\n",
       "      <th></th>\n",
       "      <th>ID</th>\n",
       "      <th>City_Code</th>\n",
       "      <th>Region_Code</th>\n",
       "      <th>Accomodation_Type</th>\n",
       "      <th>Reco_Insurance_Type</th>\n",
       "      <th>Upper_Age</th>\n",
       "      <th>Lower_Age</th>\n",
       "      <th>Is_Spouse</th>\n",
       "      <th>Health Indicator</th>\n",
       "      <th>Holding_Policy_Duration</th>\n",
       "      <th>Holding_Policy_Type</th>\n",
       "      <th>Reco_Policy_Cat</th>\n",
       "      <th>Reco_Policy_Premium</th>\n",
       "    </tr>\n",
       "  </thead>\n",
       "  <tbody>\n",
       "    <tr>\n",
       "      <th>0</th>\n",
       "      <td>50883</td>\n",
       "      <td>C1</td>\n",
       "      <td>156</td>\n",
       "      <td>Owned</td>\n",
       "      <td>Individual</td>\n",
       "      <td>30</td>\n",
       "      <td>30</td>\n",
       "      <td>No</td>\n",
       "      <td>NaN</td>\n",
       "      <td>6.0</td>\n",
       "      <td>3.0</td>\n",
       "      <td>5</td>\n",
       "      <td>11934.0</td>\n",
       "    </tr>\n",
       "    <tr>\n",
       "      <th>1</th>\n",
       "      <td>50884</td>\n",
       "      <td>C4</td>\n",
       "      <td>7</td>\n",
       "      <td>Owned</td>\n",
       "      <td>Joint</td>\n",
       "      <td>69</td>\n",
       "      <td>68</td>\n",
       "      <td>Yes</td>\n",
       "      <td>X1</td>\n",
       "      <td>3.0</td>\n",
       "      <td>3.0</td>\n",
       "      <td>18</td>\n",
       "      <td>32204.8</td>\n",
       "    </tr>\n",
       "    <tr>\n",
       "      <th>2</th>\n",
       "      <td>50885</td>\n",
       "      <td>C1</td>\n",
       "      <td>564</td>\n",
       "      <td>Rented</td>\n",
       "      <td>Individual</td>\n",
       "      <td>28</td>\n",
       "      <td>28</td>\n",
       "      <td>No</td>\n",
       "      <td>X3</td>\n",
       "      <td>2.0</td>\n",
       "      <td>4.0</td>\n",
       "      <td>17</td>\n",
       "      <td>9240.0</td>\n",
       "    </tr>\n",
       "    <tr>\n",
       "      <th>3</th>\n",
       "      <td>50886</td>\n",
       "      <td>C3</td>\n",
       "      <td>1177</td>\n",
       "      <td>Rented</td>\n",
       "      <td>Individual</td>\n",
       "      <td>23</td>\n",
       "      <td>23</td>\n",
       "      <td>No</td>\n",
       "      <td>X3</td>\n",
       "      <td>3.0</td>\n",
       "      <td>3.0</td>\n",
       "      <td>18</td>\n",
       "      <td>9086.0</td>\n",
       "    </tr>\n",
       "    <tr>\n",
       "      <th>4</th>\n",
       "      <td>50887</td>\n",
       "      <td>C1</td>\n",
       "      <td>951</td>\n",
       "      <td>Owned</td>\n",
       "      <td>Individual</td>\n",
       "      <td>75</td>\n",
       "      <td>75</td>\n",
       "      <td>No</td>\n",
       "      <td>X3</td>\n",
       "      <td>NaN</td>\n",
       "      <td>NaN</td>\n",
       "      <td>5</td>\n",
       "      <td>22534.0</td>\n",
       "    </tr>\n",
       "    <tr>\n",
       "      <th>5</th>\n",
       "      <td>50888</td>\n",
       "      <td>C1</td>\n",
       "      <td>1329</td>\n",
       "      <td>Rented</td>\n",
       "      <td>Individual</td>\n",
       "      <td>24</td>\n",
       "      <td>24</td>\n",
       "      <td>No</td>\n",
       "      <td>X2</td>\n",
       "      <td>NaN</td>\n",
       "      <td>NaN</td>\n",
       "      <td>18</td>\n",
       "      <td>6150.0</td>\n",
       "    </tr>\n",
       "    <tr>\n",
       "      <th>6</th>\n",
       "      <td>50889</td>\n",
       "      <td>C2</td>\n",
       "      <td>3479</td>\n",
       "      <td>Owned</td>\n",
       "      <td>Individual</td>\n",
       "      <td>56</td>\n",
       "      <td>56</td>\n",
       "      <td>No</td>\n",
       "      <td>X5</td>\n",
       "      <td>14+</td>\n",
       "      <td>4.0</td>\n",
       "      <td>17</td>\n",
       "      <td>19152.0</td>\n",
       "    </tr>\n",
       "    <tr>\n",
       "      <th>7</th>\n",
       "      <td>50890</td>\n",
       "      <td>C13</td>\n",
       "      <td>396</td>\n",
       "      <td>Rented</td>\n",
       "      <td>Individual</td>\n",
       "      <td>41</td>\n",
       "      <td>41</td>\n",
       "      <td>No</td>\n",
       "      <td>NaN</td>\n",
       "      <td>NaN</td>\n",
       "      <td>NaN</td>\n",
       "      <td>16</td>\n",
       "      <td>11034.0</td>\n",
       "    </tr>\n",
       "    <tr>\n",
       "      <th>8</th>\n",
       "      <td>50891</td>\n",
       "      <td>C18</td>\n",
       "      <td>513</td>\n",
       "      <td>Owned</td>\n",
       "      <td>Individual</td>\n",
       "      <td>22</td>\n",
       "      <td>22</td>\n",
       "      <td>No</td>\n",
       "      <td>X3</td>\n",
       "      <td>NaN</td>\n",
       "      <td>NaN</td>\n",
       "      <td>22</td>\n",
       "      <td>10784.0</td>\n",
       "    </tr>\n",
       "    <tr>\n",
       "      <th>9</th>\n",
       "      <td>50892</td>\n",
       "      <td>C3</td>\n",
       "      <td>957</td>\n",
       "      <td>Owned</td>\n",
       "      <td>Joint</td>\n",
       "      <td>41</td>\n",
       "      <td>37</td>\n",
       "      <td>Yes</td>\n",
       "      <td>X5</td>\n",
       "      <td>6.0</td>\n",
       "      <td>1.0</td>\n",
       "      <td>22</td>\n",
       "      <td>16934.4</td>\n",
       "    </tr>\n",
       "  </tbody>\n",
       "</table>\n",
       "</div>"
      ],
      "text/plain": [
       "      ID City_Code  Region_Code Accomodation_Type Reco_Insurance_Type  \\\n",
       "0  50883        C1          156             Owned          Individual   \n",
       "1  50884        C4            7             Owned               Joint   \n",
       "2  50885        C1          564            Rented          Individual   \n",
       "3  50886        C3         1177            Rented          Individual   \n",
       "4  50887        C1          951             Owned          Individual   \n",
       "5  50888        C1         1329            Rented          Individual   \n",
       "6  50889        C2         3479             Owned          Individual   \n",
       "7  50890       C13          396            Rented          Individual   \n",
       "8  50891       C18          513             Owned          Individual   \n",
       "9  50892        C3          957             Owned               Joint   \n",
       "\n",
       "   Upper_Age  Lower_Age Is_Spouse Health Indicator Holding_Policy_Duration  \\\n",
       "0         30         30        No              NaN                     6.0   \n",
       "1         69         68       Yes               X1                     3.0   \n",
       "2         28         28        No               X3                     2.0   \n",
       "3         23         23        No               X3                     3.0   \n",
       "4         75         75        No               X3                     NaN   \n",
       "5         24         24        No               X2                     NaN   \n",
       "6         56         56        No               X5                     14+   \n",
       "7         41         41        No              NaN                     NaN   \n",
       "8         22         22        No               X3                     NaN   \n",
       "9         41         37       Yes               X5                     6.0   \n",
       "\n",
       "   Holding_Policy_Type  Reco_Policy_Cat  Reco_Policy_Premium  \n",
       "0                  3.0                5              11934.0  \n",
       "1                  3.0               18              32204.8  \n",
       "2                  4.0               17               9240.0  \n",
       "3                  3.0               18               9086.0  \n",
       "4                  NaN                5              22534.0  \n",
       "5                  NaN               18               6150.0  \n",
       "6                  4.0               17              19152.0  \n",
       "7                  NaN               16              11034.0  \n",
       "8                  NaN               22              10784.0  \n",
       "9                  1.0               22              16934.4  "
      ]
     },
     "execution_count": 11,
     "metadata": {},
     "output_type": "execute_result"
    }
   ],
   "source": [
    "test_df=pd.read_csv(\"test.csv\")\n",
    "test_df.head(10)"
   ]
  },
  {
   "cell_type": "code",
   "execution_count": 12,
   "metadata": {},
   "outputs": [
    {
     "data": {
      "text/plain": [
       "ID                          0.000000\n",
       "City_Code                   0.000000\n",
       "Region_Code                 0.000000\n",
       "Accomodation_Type           0.000000\n",
       "Reco_Insurance_Type         0.000000\n",
       "Upper_Age                   0.000000\n",
       "Lower_Age                   0.000000\n",
       "Is_Spouse                   0.000000\n",
       "Health Indicator           22.976691\n",
       "Holding_Policy_Duration    39.799929\n",
       "Holding_Policy_Type        39.799929\n",
       "Reco_Policy_Cat             0.000000\n",
       "Reco_Policy_Premium         0.000000\n",
       "Response                    0.000000\n",
       "dtype: float64"
      ]
     },
     "execution_count": 12,
     "metadata": {},
     "output_type": "execute_result"
    }
   ],
   "source": [
    "train_df.isnull().sum()/train_df.shape[0] *100"
   ]
  },
  {
   "cell_type": "code",
   "execution_count": 13,
   "metadata": {},
   "outputs": [
    {
     "data": {
      "text/plain": [
       "ID                          0.000000\n",
       "City_Code                   0.000000\n",
       "Region_Code                 0.000000\n",
       "Accomodation_Type           0.000000\n",
       "Reco_Insurance_Type         0.000000\n",
       "Upper_Age                   0.000000\n",
       "Lower_Age                   0.000000\n",
       "Is_Spouse                   0.000000\n",
       "Health Indicator           23.054345\n",
       "Holding_Policy_Duration    39.454254\n",
       "Holding_Policy_Type        39.454254\n",
       "Reco_Policy_Cat             0.000000\n",
       "Reco_Policy_Premium         0.000000\n",
       "dtype: float64"
      ]
     },
     "execution_count": 13,
     "metadata": {},
     "output_type": "execute_result"
    }
   ],
   "source": [
    "test_df.isnull().sum()/test_df.shape[0] *100"
   ]
  },
  {
   "cell_type": "code",
   "execution_count": 14,
   "metadata": {},
   "outputs": [
    {
     "data": {
      "text/plain": [
       "X1    13010\n",
       "X2    10332\n",
       "X3     6762\n",
       "X4     5743\n",
       "X5     1727\n",
       "X6     1280\n",
       "X7      196\n",
       "X8       78\n",
       "X9       63\n",
       "Name: Health Indicator, dtype: int64"
      ]
     },
     "execution_count": 14,
     "metadata": {},
     "output_type": "execute_result"
    }
   ],
   "source": [
    "train_df['Health Indicator'].value_counts()"
   ]
  },
  {
   "cell_type": "code",
   "execution_count": 15,
   "metadata": {},
   "outputs": [
    {
     "data": {
      "text/plain": [
       "1.0     4499\n",
       "14+     4335\n",
       "2.0     4260\n",
       "3.0     3586\n",
       "4.0     2771\n",
       "5.0     2362\n",
       "6.0     1894\n",
       "7.0     1645\n",
       "8.0     1316\n",
       "9.0     1114\n",
       "10.0     813\n",
       "11.0     546\n",
       "12.0     513\n",
       "13.0     511\n",
       "14.0     466\n",
       "Name: Holding_Policy_Duration, dtype: int64"
      ]
     },
     "execution_count": 15,
     "metadata": {},
     "output_type": "execute_result"
    }
   ],
   "source": [
    "train_df['Holding_Policy_Duration'].value_counts()"
   ]
  },
  {
   "cell_type": "code",
   "execution_count": 16,
   "metadata": {},
   "outputs": [],
   "source": [
    "from sklearn.experimental import enable_iterative_imputer \n",
    "from sklearn.impute import IterativeImputer\n",
    "from sklearn.preprocessing import OrdinalEncoder\n",
    "from lightgbm import LGBMClassifier,LGBMRegressor\n",
    "\n",
    "def mice_imputation_numeric(train_numeric):\n",
    "    \"\"\"\n",
    "    Impute numeric data using MICE imputation with Gradient Boosting Regressor.\n",
    "    (we can use any other regressors to impute the data)\n",
    "    \"\"\"\n",
    "    iter_imp_numeric = IterativeImputer(LGBMRegressor())\n",
    "    imputed_train = iter_imp_numeric.fit_transform(train_numeric)\n",
    "    train_numeric_imp = pd.DataFrame(imputed_train, columns = train_numeric.columns, index= train_numeric.index)\n",
    "    return train_numeric_imp\n",
    "\n",
    "def mice_imputation_categoric(train_categoric):\n",
    "    \"\"\"\n",
    "    Impute categoric data using MICE imputation with Gradient Boosting Classifier.\n",
    "    Steps:\n",
    "    1. Ordinal Encode the non-null values\n",
    "    2. Use MICE imputation with Gradient Boosting Classifier to impute the ordinal encoded data\n",
    "    (we can use any other classifier to impute the data)\n",
    "    3. Inverse transform the ordinal encoded data.\n",
    "    \"\"\"\n",
    "    ordinal_dict={}\n",
    "    for col in train_categoric:\n",
    "        '''Ordinal encode train data'''\n",
    "        ordinal_dict[col] = OrdinalEncoder()\n",
    "        nn_vals = np.array(train_categoric[col][train_categoric[col].notnull()]).reshape(-1,1)\n",
    "        nn_vals_arr = np.array(ordinal_dict[col].fit_transform(nn_vals)).reshape(-1,)\n",
    "        train_categoric[col].loc[train_categoric[col].notnull()] = nn_vals_arr\n",
    "\n",
    "    '''Impute the data using MICE with LightGBM '''\n",
    "    iter_imp_categoric = IterativeImputer(LGBMClassifier(), max_iter =5, initial_strategy='most_frequent')\n",
    "    imputed_train = iter_imp_categoric.fit_transform(train_categoric)\n",
    "    train_categoric_imp = pd.DataFrame(imputed_train, columns =train_categoric.columns,index = train_categoric.index).astype(int)\n",
    "    \n",
    "    '''Inverse Transform'''\n",
    "    for col in train_categoric_imp.columns:\n",
    "        oe = ordinal_dict[col]\n",
    "        train_arr= np.array(train_categoric_imp[col]).reshape(-1,1)\n",
    "        train_categoric_imp[col] = oe.inverse_transform(train_arr)\n",
    "        \n",
    "    return train_categoric_imp\n"
   ]
  },
  {
   "cell_type": "code",
   "execution_count": 17,
   "metadata": {},
   "outputs": [],
   "source": [
    "numeric_cols = train_df.select_dtypes(['float64','int64']).columns\n",
    "categoric_cols = train_df.select_dtypes('object').columns"
   ]
  },
  {
   "cell_type": "code",
   "execution_count": 18,
   "metadata": {},
   "outputs": [],
   "source": [
    "train_int=train_df[numeric_cols]\n",
    "train_cat=train_df[categoric_cols]\n",
    "train_numeric_imp  = mice_imputation_numeric(train_int)\n",
    "train_categoric_imp = mice_imputation_categoric(train_cat)"
   ]
  },
  {
   "cell_type": "code",
   "execution_count": 19,
   "metadata": {},
   "outputs": [],
   "source": [
    "train_df1=pd.concat([train_numeric_imp, train_categoric_imp], axis = 1)"
   ]
  },
  {
   "cell_type": "code",
   "execution_count": 20,
   "metadata": {},
   "outputs": [
    {
     "data": {
      "text/plain": [
       "ID                         0.0\n",
       "Region_Code                0.0\n",
       "Upper_Age                  0.0\n",
       "Lower_Age                  0.0\n",
       "Holding_Policy_Type        0.0\n",
       "Reco_Policy_Cat            0.0\n",
       "Reco_Policy_Premium        0.0\n",
       "Response                   0.0\n",
       "City_Code                  0.0\n",
       "Accomodation_Type          0.0\n",
       "Reco_Insurance_Type        0.0\n",
       "Is_Spouse                  0.0\n",
       "Health Indicator           0.0\n",
       "Holding_Policy_Duration    0.0\n",
       "dtype: float64"
      ]
     },
     "execution_count": 20,
     "metadata": {},
     "output_type": "execute_result"
    }
   ],
   "source": [
    "train_df1.isnull().sum()/train_df1.shape[0] *100"
   ]
  },
  {
   "cell_type": "code",
   "execution_count": 21,
   "metadata": {},
   "outputs": [],
   "source": [
    "numeric_cols = test_df.select_dtypes(['float64','int64']).columns\n",
    "categoric_cols = test_df.select_dtypes('object').columns\n",
    "test_int=test_df[numeric_cols]\n",
    "test_cat=test_df[categoric_cols]\n",
    "test_numeric_imp  = mice_imputation_numeric(test_int)\n",
    "test_categoric_imp = mice_imputation_categoric(test_cat)\n",
    "test_df1=pd.concat([test_numeric_imp, test_categoric_imp], axis = 1)"
   ]
  },
  {
   "cell_type": "code",
   "execution_count": 22,
   "metadata": {},
   "outputs": [
    {
     "data": {
      "text/plain": [
       "ID                         0.0\n",
       "Region_Code                0.0\n",
       "Upper_Age                  0.0\n",
       "Lower_Age                  0.0\n",
       "Holding_Policy_Type        0.0\n",
       "Reco_Policy_Cat            0.0\n",
       "Reco_Policy_Premium        0.0\n",
       "City_Code                  0.0\n",
       "Accomodation_Type          0.0\n",
       "Reco_Insurance_Type        0.0\n",
       "Is_Spouse                  0.0\n",
       "Health Indicator           0.0\n",
       "Holding_Policy_Duration    0.0\n",
       "dtype: float64"
      ]
     },
     "execution_count": 22,
     "metadata": {},
     "output_type": "execute_result"
    }
   ],
   "source": [
    "test_df1.isnull().sum()/test_df1.shape[0] *100"
   ]
  },
  {
   "cell_type": "code",
   "execution_count": 23,
   "metadata": {},
   "outputs": [
    {
     "data": {
      "text/plain": [
       "<matplotlib.axes._subplots.AxesSubplot at 0x16b0bcf8dc8>"
      ]
     },
     "execution_count": 23,
     "metadata": {},
     "output_type": "execute_result"
    },
    {
     "data": {
      "image/png": "[encoded data removed]",
      "text/plain": [
       "<Figure size 432x288 with 1 Axes>"
      ]
     },
     "metadata": {
      "needs_background": "light"
     },
     "output_type": "display_data"
    }
   ],
   "source": [
    "sns.distplot(train_df1['Reco_Policy_Premium'])"
   ]
  },
  {
   "cell_type": "code",
   "execution_count": 24,
   "metadata": {},
   "outputs": [
    {
     "data": {
      "text/plain": [
       "<matplotlib.axes._subplots.AxesSubplot at 0x16b0cc2ce88>"
      ]
     },
     "execution_count": 24,
     "metadata": {},
     "output_type": "execute_result"
    },
    {
     "data": {
      "image/png": "[encoded data removed]",
      "text/plain": [
       "<Figure size 432x288 with 1 Axes>"
      ]
     },
     "metadata": {
      "needs_background": "light"
     },
     "output_type": "display_data"
    }
   ],
   "source": [
    "sns.distplot(test_df1['Reco_Policy_Premium'])"
   ]
  },
  {
   "cell_type": "code",
   "execution_count": 25,
   "metadata": {},
   "outputs": [
    {
     "data": {
      "text/plain": [
       "<matplotlib.axes._subplots.AxesSubplot at 0x16b0c998cc8>"
      ]
     },
     "execution_count": 25,
     "metadata": {},
     "output_type": "execute_result"
    },
    {
     "data": {
      "image/png": "[encoded data removed]",
      "text/plain": [
       "<Figure size 432x288 with 1 Axes>"
      ]
     },
     "metadata": {
      "needs_background": "light"
     },
     "output_type": "display_data"
    }
   ],
   "source": [
    "sns.distplot(train_df1['Upper_Age'])"
   ]
  },
  {
   "cell_type": "code",
   "execution_count": 26,
   "metadata": {},
   "outputs": [
    {
     "data": {
      "text/plain": [
       "<matplotlib.axes._subplots.AxesSubplot at 0x16b0da91f48>"
      ]
     },
     "execution_count": 26,
     "metadata": {},
     "output_type": "execute_result"
    },
    {
     "data": {
      "image/png": "[encoded data removed]",
      "text/plain": [
       "<Figure size 432x288 with 1 Axes>"
      ]
     },
     "metadata": {
      "needs_background": "light"
     },
     "output_type": "display_data"
    }
   ],
   "source": [
    "sns.distplot(train_df1['Lower_Age'])"
   ]
  },
  {
   "cell_type": "code",
   "execution_count": 27,
   "metadata": {},
   "outputs": [
    {
     "data": {
      "text/plain": [
       "<matplotlib.axes._subplots.AxesSubplot at 0x16b0dca4248>"
      ]
     },
     "execution_count": 27,
     "metadata": {},
     "output_type": "execute_result"
    },
    {
     "data": {
      "image/png": "[encoded data removed]",
      "text/plain": [
       "<Figure size 432x288 with 1 Axes>"
      ]
     },
     "metadata": {
      "needs_background": "light"
     },
     "output_type": "display_data"
    }
   ],
   "source": [
    "sns.distplot(test_df1['Upper_Age'])"
   ]
  },
  {
   "cell_type": "code",
   "execution_count": 28,
   "metadata": {},
   "outputs": [
    {
     "data": {
      "text/plain": [
       "<matplotlib.axes._subplots.AxesSubplot at 0x16b0f2fec88>"
      ]
     },
     "execution_count": 28,
     "metadata": {},
     "output_type": "execute_result"
    },
    {
     "data": {
      "image/png": "[encoded data removed]",
      "text/plain": [
       "<Figure size 432x288 with 1 Axes>"
      ]
     },
     "metadata": {
      "needs_background": "light"
     },
     "output_type": "display_data"
    }
   ],
   "source": [
    "sns.distplot(test_df1['Lower_Age'])"
   ]
  },
  {
   "cell_type": "code",
   "execution_count": 29,
   "metadata": {},
   "outputs": [
    {
     "data": {
      "text/plain": [
       "<matplotlib.axes._subplots.AxesSubplot at 0x16b0f3af048>"
      ]
     },
     "execution_count": 29,
     "metadata": {},
     "output_type": "execute_result"
    },
    {
     "data": {
      "image/png": "[encoded data removed]",
      "text/plain": [
       "<Figure size 720x360 with 1 Axes>"
      ]
     },
     "metadata": {
      "needs_background": "light"
     },
     "output_type": "display_data"
    }
   ],
   "source": [
    "plt.figure(figsize=(10,5))\n",
    "sns.countplot('Response',data=train_df1,palette='ocean')"
   ]
  },
  {
   "cell_type": "code",
   "execution_count": 30,
   "metadata": {},
   "outputs": [
    {
     "data": {
      "text/plain": [
       "<matplotlib.axes._subplots.AxesSubplot at 0x16b0f644788>"
      ]
     },
     "execution_count": 30,
     "metadata": {},
     "output_type": "execute_result"
    },
    {
     "data": {
      "image/png": "[encoded data removed]",
      "text/plain": [
       "<Figure size 1800x576 with 1 Axes>"
      ]
     },
     "metadata": {
      "needs_background": "light"
     },
     "output_type": "display_data"
    }
   ],
   "source": [
    "plt.figure(figsize=(25,8))\n",
    "sns.countplot('Reco_Policy_Cat',data=train_df1,palette='ocean')"
   ]
  },
  {
   "cell_type": "code",
   "execution_count": 31,
   "metadata": {},
   "outputs": [
    {
     "data": {
      "text/plain": [
       "<matplotlib.axes._subplots.AxesSubplot at 0x16b0f625388>"
      ]
     },
     "execution_count": 31,
     "metadata": {},
     "output_type": "execute_result"
    },
    {
     "data": {
      "image/png": "[encoded data removed]",
      "text/plain": [
       "<Figure size 1800x576 with 1 Axes>"
      ]
     },
     "metadata": {
      "needs_background": "light"
     },
     "output_type": "display_data"
    }
   ],
   "source": [
    "plt.figure(figsize=(25,8))\n",
    "sns.barplot(x='Reco_Policy_Cat',y='Reco_Policy_Premium',data=train_df1,palette='spring')"
   ]
  },
  {
   "cell_type": "code",
   "execution_count": 32,
   "metadata": {},
   "outputs": [
    {
     "data": {
      "text/plain": [
       "<matplotlib.axes._subplots.AxesSubplot at 0x16b0f64a148>"
      ]
     },
     "execution_count": 32,
     "metadata": {},
     "output_type": "execute_result"
    },
    {
     "data": {
      "image/png": "[encoded data removed]",
      "text/plain": [
       "<Figure size 864x864 with 1 Axes>"
      ]
     },
     "metadata": {
      "needs_background": "light"
     },
     "output_type": "display_data"
    }
   ],
   "source": [
    "plt.figure(figsize=(12,12))\n",
    "sns.barplot(y='City_Code',x='Reco_Policy_Premium',data=train_df1,palette='flag')"
   ]
  },
  {
   "cell_type": "code",
   "execution_count": 33,
   "metadata": {},
   "outputs": [
    {
     "data": {
      "text/plain": [
       "<matplotlib.axes._subplots.AxesSubplot at 0x16b0f82cb48>"
      ]
     },
     "execution_count": 33,
     "metadata": {},
     "output_type": "execute_result"
    },
    {
     "data": {
      "image/png": "[encoded data removed]",
      "text/plain": [
       "<Figure size 576x432 with 1 Axes>"
      ]
     },
     "metadata": {
      "needs_background": "light"
     },
     "output_type": "display_data"
    }
   ],
   "source": [
    "plt.figure(figsize=(8,6))\n",
    "sns.barplot(y='Reco_Policy_Premium',x='Reco_Insurance_Type',data=train_df1)"
   ]
  },
  {
   "cell_type": "code",
   "execution_count": 34,
   "metadata": {},
   "outputs": [],
   "source": [
    "train_df1['Age']=(train_df1.Upper_Age + train_df1.Lower_Age)/2\n",
    "test_df1['Age']=(test_df1.Upper_Age + test_df1.Lower_Age)/2"
   ]
  },
  {
   "cell_type": "code",
   "execution_count": 35,
   "metadata": {},
   "outputs": [],
   "source": [
    "train_df1['Reco_Policy_Region'] = train_df1['Reco_Policy_Cat'].astype(str)+'_'+train_df1['Region_Code'].astype(str)\n",
    "test_df1['Reco_Policy_Region'] = test_df1['Reco_Policy_Cat'].astype(str)+'_'+test_df1['Region_Code'].astype(str)\n",
    "train_df1['Policy_Region'] = train_df1['Holding_Policy_Type'].astype(str)+'_'+train_df1['Region_Code'].astype(str)\n",
    "test_df1['Policy_Region'] = test_df1['Holding_Policy_Type'].astype(str)+'_'+test_df1['Region_Code'].astype(str)\n",
    "train_df1['policy_per_Age'] = train_df1['Holding_Policy_Type'].astype(str)+'_'+train_df1['Age'].astype(str)\n",
    "test_df1['policy_per_Age'] = test_df1['Holding_Policy_Type'].astype(str)+'_'+test_df1['Age'].astype(str)\n",
    "train_df1['Holding_policy_per_duration'] = train_df1['Holding_Policy_Type'].astype(str)+'_'+train_df1['Holding_Policy_Duration'].astype(str)\n",
    "test_df1['Holding_policy_per_duration'] = test_df1['Holding_Policy_Type'].astype(str)+'_'+test_df1['Holding_Policy_Duration'].astype(str)\n",
    "train_df1.drop(['Upper_Age','Lower_Age'],axis=1,inplace=True)\n",
    "test_df1.drop(['Upper_Age','Lower_Age'],axis=1,inplace=True)"
   ]
  },
  {
   "cell_type": "code",
   "execution_count": 36,
   "metadata": {},
   "outputs": [],
   "source": [
    "def ext(data):\n",
    "    if data=='14+':\n",
    "        j='14'\n",
    "    else:\n",
    "        j=data\n",
    "    return j\n",
    "\n",
    "train_df1['Holding_Policy_Duration']=train_df1['Holding_Policy_Duration'].apply(lambda j:ext(j))\n",
    "test_df1['Holding_Policy_Duration']=test_df1['Holding_Policy_Duration'].apply(lambda j:ext(j))"
   ]
  },
  {
   "cell_type": "code",
   "execution_count": 37,
   "metadata": {},
   "outputs": [],
   "source": [
    "from sklearn.preprocessing import LabelEncoder\n",
    "le=LabelEncoder()\n",
    "cat_col_mask=['City_Code','Accomodation_Type','Reco_Insurance_Type','Is_Spouse','Reco_Policy_Region','Policy_Region',\n",
    "             'policy_per_Age','Holding_policy_per_duration']\n",
    "for col in cat_col_mask:\n",
    "    le.fit(train_df1[col].unique().tolist() + test_df1[col].unique().tolist())\n",
    "    train_df1[col]=le.transform(train_df1[col])\n",
    "    test_df1[col]=le.transform(test_df1[col])"
   ]
  },
  {
   "cell_type": "code",
   "execution_count": 38,
   "metadata": {},
   "outputs": [],
   "source": [
    "### Feature Engineering\n",
    "from sklearn.preprocessing import KBinsDiscretizer\n",
    "def features(df):\n",
    "    df['Health Indicator']=df['Health Indicator'].str.split('X').str[1]\n",
    "    df['Health Indicator']=df['Health Indicator'].astype(int)\n",
    "    df['Holding_Policy_Duration']=df['Holding_Policy_Duration'].astype(float)\n",
    "    premium_discretizer = KBinsDiscretizer(n_bins=8, encode='ordinal', strategy='quantile')\n",
    "    df['Reco_Policy_Premium']=premium_discretizer.fit_transform(df['Reco_Policy_Premium'].values.reshape(-1,1)).astype(int)\n",
    "    age_discretizer = KBinsDiscretizer(n_bins=10, encode='ordinal', strategy='quantile')\n",
    "    df['Age']=age_discretizer.fit_transform(df['Age'].values.reshape(-1,1)).astype(int)\n",
    "    df['Avg_Region_Age'] = df.groupby(['Region_Code'])['Age'].transform('mean')\n",
    "    df['Avg_Region_Premium'] = df.groupby(['Region_Code'])['Reco_Policy_Premium'].transform('mean')\n",
    "    df['Nunq_Insurance_Type_Per_Region'] = df.groupby('Region_Code')['Reco_Insurance_Type'].transform('nunique')\n",
    "    df['Nunq_Accomodation_Type_Per_Region'] = df.groupby('Region_Code')['Accomodation_Type'].transform('nunique')\n",
    "    df['Nunq_Premium_Region'] = df.groupby(['Reco_Policy_Premium'])['Region_Code'].transform('nunique')\n",
    "    df['Nunq_Policy_cat_Region'] = df.groupby(['Region_Code'])['Reco_Policy_Cat'].transform('nunique')\n",
    "    df['Avg_premium_per_insurace type'] = df.groupby(['Reco_Policy_Cat'])['Reco_Policy_Premium'].transform('mean')\n",
    "    df['Avg_premium_per_holding_policy'] = df.groupby(['Holding_Policy_Type'])['Reco_Policy_Premium'].transform('mean')\n",
    "    df['Avg_premium_per_Health_indicator'] = df.groupby(['Health Indicator'])['Reco_Policy_Premium'].transform('mean')\n",
    "    df['Avg_age_per_policy_type'] = df.groupby(['Reco_Policy_Cat'])['Age'].transform('mean')\n",
    "    df['Nunq_policy_Type_Per_Health'] = df.groupby('Reco_Policy_Cat')['Health Indicator'].transform('nunique')\n",
    "    df['Avg_premium_per_age_group']= df.groupby(['Age'])['Reco_Policy_Premium'].transform('mean')\n",
    "    #df.drop(['Age'],axis=1,inplace=True)\n",
    "    return df"
   ]
  },
  {
   "cell_type": "code",
   "execution_count": 39,
   "metadata": {},
   "outputs": [],
   "source": [
    "train_df2=features(train_df1)\n",
    "test_df2=features(test_df1)"
   ]
  },
  {
   "cell_type": "code",
   "execution_count": 40,
   "metadata": {},
   "outputs": [],
   "source": [
    "x=train_df2.drop(['ID','Response'],axis=1)"
   ]
  },
  {
   "cell_type": "code",
   "execution_count": 41,
   "metadata": {},
   "outputs": [],
   "source": [
    "y=train_df2['Response']"
   ]
  },
  {
   "cell_type": "code",
   "execution_count": 42,
   "metadata": {},
   "outputs": [
    {
     "data": {
      "text/plain": [
       "((40705, 27), (10177, 27), (40705,), (10177,))"
      ]
     },
     "execution_count": 42,
     "metadata": {},
     "output_type": "execute_result"
    }
   ],
   "source": [
    "from sklearn.model_selection import train_test_split, cross_val_score\n",
    "x_train, x_test, y_train, y_test = train_test_split(x, y, test_size = 0.2, random_state = 54,stratify=y, shuffle=True)\n",
    "x_train.shape, x_test.shape, y_train.shape, y_test.shape"
   ]
  },
  {
   "cell_type": "code",
   "execution_count": 43,
   "metadata": {},
   "outputs": [],
   "source": [
    "import xgboost as xgb"
   ]
  },
  {
   "cell_type": "code",
   "execution_count": 46,
   "metadata": {},
   "outputs": [],
   "source": [
    "seed = 112 # Random seed\n",
    "\n",
    "def xgbc_cv(max_depth,learning_rate,n_estimators,reg_alpha,min_child_weight,colsample_bytree,gamma,eta):\n",
    "    from sklearn.metrics import roc_auc_score\n",
    "    import numpy as np\n",
    "    \n",
    "    estimator_function = xgb.XGBClassifier(max_depth=int(max_depth),\n",
    "                                           learning_rate= learning_rate,\n",
    "                                           n_estimators= int(n_estimators),\n",
    "                                           reg_alpha = reg_alpha,\n",
    "                                           colsample_bytree= colsample_bytree,\n",
    "                                           gamma=gamma,\n",
    "                                           min_child_weight= int(min_child_weight),\n",
    "                                           eta=eta,\n",
    "                                           objective='binary:logistic',\n",
    "                                           nthread = -1,\n",
    "                                           seed = seed)\n",
    "    # Fit the estimator\n",
    "    estimator_function.fit(x_train,y_train)\n",
    "    \n",
    "    # calculate out-of-the-box roc_score using validation set 1\n",
    "    probs = estimator_function.predict_proba(x_test)\n",
    "    probs = probs[:,1]\n",
    "    val1_roc = roc_auc_score(y_test,probs)\n",
    "\n",
    "    return np.array([val1_roc]).mean()"
   ]
  },
  {
   "cell_type": "code",
   "execution_count": 47,
   "metadata": {},
   "outputs": [
    {
     "name": "stdout",
     "output_type": "stream",
     "text": [
      "|   iter    |  target   | colsam... |    eta    |   gamma   | learni... | max_depth | min_ch... | n_esti... | reg_alpha |\n",
      "-------------------------------------------------------------------------------------------------------------------------\n",
      "| \u001b[0m 1       \u001b[0m | \u001b[0m 0.7734  \u001b[0m | \u001b[0m 0.4376  \u001b[0m | \u001b[0m 0.6403  \u001b[0m | \u001b[0m 9.5     \u001b[0m | \u001b[0m 0.07568 \u001b[0m | \u001b[0m 15.98   \u001b[0m | \u001b[0m 16.82   \u001b[0m | \u001b[0m 119.1   \u001b[0m | \u001b[0m 0.8177  \u001b[0m |\n",
      "| \u001b[0m 2       \u001b[0m | \u001b[0m 0.739   \u001b[0m | \u001b[0m 0.8968  \u001b[0m | \u001b[0m 0.7223  \u001b[0m | \u001b[0m 0.02556 \u001b[0m | \u001b[0m 0.9812  \u001b[0m | \u001b[0m 8.182   \u001b[0m | \u001b[0m 2.8     \u001b[0m | \u001b[0m 795.3   \u001b[0m | \u001b[0m 0.004945\u001b[0m |\n",
      "| \u001b[95m 3       \u001b[0m | \u001b[95m 0.7748  \u001b[0m | \u001b[95m 0.763   \u001b[0m | \u001b[95m 0.9558  \u001b[0m | \u001b[95m 8.206   \u001b[0m | \u001b[95m 0.345   \u001b[0m | \u001b[95m 8.814   \u001b[0m | \u001b[95m 15.91   \u001b[0m | \u001b[95m 181.6   \u001b[0m | \u001b[95m 0.5461  \u001b[0m |\n",
      "| \u001b[0m 4       \u001b[0m | \u001b[0m 0.7552  \u001b[0m | \u001b[0m 0.246   \u001b[0m | \u001b[0m 0.2901  \u001b[0m | \u001b[0m 0.4501  \u001b[0m | \u001b[0m 0.3322  \u001b[0m | \u001b[0m 15.26   \u001b[0m | \u001b[0m 16.95   \u001b[0m | \u001b[0m 1.422e+0\u001b[0m | \u001b[0m 0.1884  \u001b[0m |\n",
      "| \u001b[0m 5       \u001b[0m | \u001b[0m 0.7451  \u001b[0m | \u001b[0m 0.9871  \u001b[0m | \u001b[0m 0.388   \u001b[0m | \u001b[0m 5.032   \u001b[0m | \u001b[0m 0.7635  \u001b[0m | \u001b[0m 14.31   \u001b[0m | \u001b[0m 14.72   \u001b[0m | \u001b[0m 436.2   \u001b[0m | \u001b[0m 0.7631  \u001b[0m |\n",
      "| \u001b[95m 6       \u001b[0m | \u001b[95m 0.7754  \u001b[0m | \u001b[95m 0.1677  \u001b[0m | \u001b[95m 0.6109  \u001b[0m | \u001b[95m 4.256   \u001b[0m | \u001b[95m 0.2344  \u001b[0m | \u001b[95m 11.88   \u001b[0m | \u001b[95m 11.96   \u001b[0m | \u001b[95m 1.101e+0\u001b[0m | \u001b[95m 0.1549  \u001b[0m |\n",
      "| \u001b[0m 7       \u001b[0m | \u001b[0m 0.7476  \u001b[0m | \u001b[0m 0.6693  \u001b[0m | \u001b[0m 0.1091  \u001b[0m | \u001b[0m 1.147   \u001b[0m | \u001b[0m 0.4962  \u001b[0m | \u001b[0m 8.79    \u001b[0m | \u001b[0m 19.6    \u001b[0m | \u001b[0m 1.429e+0\u001b[0m | \u001b[0m 0.06139 \u001b[0m |\n",
      "| \u001b[95m 8       \u001b[0m | \u001b[95m 0.782   \u001b[0m | \u001b[95m 0.9103  \u001b[0m | \u001b[95m 0.9474  \u001b[0m | \u001b[95m 8.292   \u001b[0m | \u001b[95m 0.1541  \u001b[0m | \u001b[95m 13.76   \u001b[0m | \u001b[95m 16.32   \u001b[0m | \u001b[95m 211.2   \u001b[0m | \u001b[95m 0.1011  \u001b[0m |\n",
      "| \u001b[0m 9       \u001b[0m | \u001b[0m 0.7605  \u001b[0m | \u001b[0m 0.3096  \u001b[0m | \u001b[0m 0.492   \u001b[0m | \u001b[0m 3.623   \u001b[0m | \u001b[0m 0.03246 \u001b[0m | \u001b[0m 5.612   \u001b[0m | \u001b[0m 4.64    \u001b[0m | \u001b[0m 799.2   \u001b[0m | \u001b[0m 0.2126  \u001b[0m |\n",
      "| \u001b[0m 10      \u001b[0m | \u001b[0m 0.7467  \u001b[0m | \u001b[0m 0.2825  \u001b[0m | \u001b[0m 0.9202  \u001b[0m | \u001b[0m 4.856   \u001b[0m | \u001b[0m 0.2204  \u001b[0m | \u001b[0m 4.0     \u001b[0m | \u001b[0m 1.387   \u001b[0m | \u001b[0m 463.8   \u001b[0m | \u001b[0m 0.01534 \u001b[0m |\n",
      "| \u001b[0m 11      \u001b[0m | \u001b[0m 0.7171  \u001b[0m | \u001b[0m 0.1669  \u001b[0m | \u001b[0m 0.4989  \u001b[0m | \u001b[0m 2.999   \u001b[0m | \u001b[0m 0.03299 \u001b[0m | \u001b[0m 2.837   \u001b[0m | \u001b[0m 12.53   \u001b[0m | \u001b[0m 1.453e+0\u001b[0m | \u001b[0m 0.4562  \u001b[0m |\n",
      "| \u001b[0m 12      \u001b[0m | \u001b[0m 0.7416  \u001b[0m | \u001b[0m 0.1546  \u001b[0m | \u001b[0m 0.3134  \u001b[0m | \u001b[0m 0.1406  \u001b[0m | \u001b[0m 0.8136  \u001b[0m | \u001b[0m 4.752   \u001b[0m | \u001b[0m 2.556   \u001b[0m | \u001b[0m 538.6   \u001b[0m | \u001b[0m 0.2452  \u001b[0m |\n",
      "| \u001b[0m 13      \u001b[0m | \u001b[0m 0.7773  \u001b[0m | \u001b[0m 0.9414  \u001b[0m | \u001b[0m 0.1059  \u001b[0m | \u001b[0m 2.162   \u001b[0m | \u001b[0m 0.2016  \u001b[0m | \u001b[0m 14.14   \u001b[0m | \u001b[0m 4.176   \u001b[0m | \u001b[0m 961.5   \u001b[0m | \u001b[0m 0.6811  \u001b[0m |\n",
      "| \u001b[0m 14      \u001b[0m | \u001b[0m 0.7673  \u001b[0m | \u001b[0m 0.2916  \u001b[0m | \u001b[0m 0.3951  \u001b[0m | \u001b[0m 2.04    \u001b[0m | \u001b[0m 0.2013  \u001b[0m | \u001b[0m 8.194   \u001b[0m | \u001b[0m 13.97   \u001b[0m | \u001b[0m 1.758e+0\u001b[0m | \u001b[0m 0.4507  \u001b[0m |\n",
      "| \u001b[0m 15      \u001b[0m | \u001b[0m 0.7789  \u001b[0m | \u001b[0m 0.8382  \u001b[0m | \u001b[0m 0.6854  \u001b[0m | \u001b[0m 8.032   \u001b[0m | \u001b[0m 0.2612  \u001b[0m | \u001b[0m 12.32   \u001b[0m | \u001b[0m 3.939   \u001b[0m | \u001b[0m 1.903e+0\u001b[0m | \u001b[0m 0.1868  \u001b[0m |\n",
      "| \u001b[0m 16      \u001b[0m | \u001b[0m 0.7366  \u001b[0m | \u001b[0m 0.1459  \u001b[0m | \u001b[0m 0.2617  \u001b[0m | \u001b[0m 1.633   \u001b[0m | \u001b[0m 0.8138  \u001b[0m | \u001b[0m 4.513   \u001b[0m | \u001b[0m 14.64   \u001b[0m | \u001b[0m 860.0   \u001b[0m | \u001b[0m 0.1857  \u001b[0m |\n",
      "| \u001b[0m 17      \u001b[0m | \u001b[0m 0.7092  \u001b[0m | \u001b[0m 0.2326  \u001b[0m | \u001b[0m 0.515   \u001b[0m | \u001b[0m 9.266   \u001b[0m | \u001b[0m 0.001753\u001b[0m | \u001b[0m 4.561   \u001b[0m | \u001b[0m 7.868   \u001b[0m | \u001b[0m 1.917e+0\u001b[0m | \u001b[0m 0.0362  \u001b[0m |\n",
      "| \u001b[0m 18      \u001b[0m | \u001b[0m 0.7359  \u001b[0m | \u001b[0m 0.6595  \u001b[0m | \u001b[0m 0.3372  \u001b[0m | \u001b[0m 5.926   \u001b[0m | \u001b[0m 0.9986  \u001b[0m | \u001b[0m 9.653   \u001b[0m | \u001b[0m 19.17   \u001b[0m | \u001b[0m 322.4   \u001b[0m | \u001b[0m 0.2171  \u001b[0m |\n",
      "| \u001b[0m 19      \u001b[0m | \u001b[0m 0.7783  \u001b[0m | \u001b[0m 0.1413  \u001b[0m | \u001b[0m 0.0601  \u001b[0m | \u001b[0m 5.135   \u001b[0m | \u001b[0m 0.1146  \u001b[0m | \u001b[0m 17.66   \u001b[0m | \u001b[0m 17.27   \u001b[0m | \u001b[0m 894.5   \u001b[0m | \u001b[0m 0.9591  \u001b[0m |\n",
      "| \u001b[0m 20      \u001b[0m | \u001b[0m 0.7602  \u001b[0m | \u001b[0m 0.9518  \u001b[0m | \u001b[0m 0.01428 \u001b[0m | \u001b[0m 8.254   \u001b[0m | \u001b[0m 0.6093  \u001b[0m | \u001b[0m 16.02   \u001b[0m | \u001b[0m 9.481   \u001b[0m | \u001b[0m 1.427e+0\u001b[0m | \u001b[0m 0.1115  \u001b[0m |\n",
      "| \u001b[0m 21      \u001b[0m | \u001b[0m 0.7603  \u001b[0m | \u001b[0m 0.5418  \u001b[0m | \u001b[0m 0.2761  \u001b[0m | \u001b[0m 3.142   \u001b[0m | \u001b[0m 0.449   \u001b[0m | \u001b[0m 5.306   \u001b[0m | \u001b[0m 12.19   \u001b[0m | \u001b[0m 935.1   \u001b[0m | \u001b[0m 0.4055  \u001b[0m |\n",
      "| \u001b[0m 22      \u001b[0m | \u001b[0m 0.757   \u001b[0m | \u001b[0m 0.7985  \u001b[0m | \u001b[0m 0.5733  \u001b[0m | \u001b[0m 5.883   \u001b[0m | \u001b[0m 0.6545  \u001b[0m | \u001b[0m 9.743   \u001b[0m | \u001b[0m 2.152   \u001b[0m | \u001b[0m 1.496e+0\u001b[0m | \u001b[0m 0.9053  \u001b[0m |\n",
      "| \u001b[0m 23      \u001b[0m | \u001b[0m 0.766   \u001b[0m | \u001b[0m 0.6232  \u001b[0m | \u001b[0m 0.257   \u001b[0m | \u001b[0m 4.07    \u001b[0m | \u001b[0m 0.5563  \u001b[0m | \u001b[0m 5.637   \u001b[0m | \u001b[0m 14.29   \u001b[0m | \u001b[0m 1.212e+0\u001b[0m | \u001b[0m 0.741   \u001b[0m |\n",
      "| \u001b[0m 24      \u001b[0m | \u001b[0m 0.7462  \u001b[0m | \u001b[0m 0.3852  \u001b[0m | \u001b[0m 0.9126  \u001b[0m | \u001b[0m 6.414   \u001b[0m | \u001b[0m 0.9589  \u001b[0m | \u001b[0m 3.482   \u001b[0m | \u001b[0m 19.17   \u001b[0m | \u001b[0m 1.794e+0\u001b[0m | \u001b[0m 0.6664  \u001b[0m |\n",
      "| \u001b[0m 25      \u001b[0m | \u001b[0m 0.7479  \u001b[0m | \u001b[0m 0.3079  \u001b[0m | \u001b[0m 0.4178  \u001b[0m | \u001b[0m 8.318   \u001b[0m | \u001b[0m 0.9163  \u001b[0m | \u001b[0m 16.43   \u001b[0m | \u001b[0m 19.97   \u001b[0m | \u001b[0m 1.874e+0\u001b[0m | \u001b[0m 0.04913 \u001b[0m |\n",
      "| \u001b[0m 26      \u001b[0m | \u001b[0m 0.7429  \u001b[0m | \u001b[0m 0.7464  \u001b[0m | \u001b[0m 0.4655  \u001b[0m | \u001b[0m 4.953   \u001b[0m | \u001b[0m 0.297   \u001b[0m | \u001b[0m 3.348   \u001b[0m | \u001b[0m 11.0    \u001b[0m | \u001b[0m 1.071e+0\u001b[0m | \u001b[0m 0.6455  \u001b[0m |\n",
      "| \u001b[0m 27      \u001b[0m | \u001b[0m 0.7524  \u001b[0m | \u001b[0m 0.3712  \u001b[0m | \u001b[0m 0.7982  \u001b[0m | \u001b[0m 3.567   \u001b[0m | \u001b[0m 0.7165  \u001b[0m | \u001b[0m 12.34   \u001b[0m | \u001b[0m 10.98   \u001b[0m | \u001b[0m 623.6   \u001b[0m | \u001b[0m 0.152   \u001b[0m |\n",
      "| \u001b[0m 28      \u001b[0m | \u001b[0m 0.7319  \u001b[0m | \u001b[0m 0.2419  \u001b[0m | \u001b[0m 0.3203  \u001b[0m | \u001b[0m 7.217   \u001b[0m | \u001b[0m 0.5257  \u001b[0m | \u001b[0m 2.058   \u001b[0m | \u001b[0m 2.906   \u001b[0m | \u001b[0m 1.199e+0\u001b[0m | \u001b[0m 0.1342  \u001b[0m |\n",
      "| \u001b[0m 29      \u001b[0m | \u001b[0m 0.766   \u001b[0m | \u001b[0m 0.5239  \u001b[0m | \u001b[0m 0.3233  \u001b[0m | \u001b[0m 9.663   \u001b[0m | \u001b[0m 0.4166  \u001b[0m | \u001b[0m 8.117   \u001b[0m | \u001b[0m 14.24   \u001b[0m | \u001b[0m 106.1   \u001b[0m | \u001b[0m 0.734   \u001b[0m |\n",
      "| \u001b[0m 30      \u001b[0m | \u001b[0m 0.7449  \u001b[0m | \u001b[0m 0.6167  \u001b[0m | \u001b[0m 0.09915 \u001b[0m | \u001b[0m 0.2581  \u001b[0m | \u001b[0m 0.5725  \u001b[0m | \u001b[0m 2.444   \u001b[0m | \u001b[0m 5.813   \u001b[0m | \u001b[0m 1.016e+0\u001b[0m | \u001b[0m 0.351   \u001b[0m |\n",
      "| \u001b[0m 31      \u001b[0m | \u001b[0m 0.7519  \u001b[0m | \u001b[0m 0.563   \u001b[0m | \u001b[0m 0.2454  \u001b[0m | \u001b[0m 3.052   \u001b[0m | \u001b[0m 0.7099  \u001b[0m | \u001b[0m 15.02   \u001b[0m | \u001b[0m 13.71   \u001b[0m | \u001b[0m 203.4   \u001b[0m | \u001b[0m 0.9505  \u001b[0m |\n",
      "| \u001b[0m 32      \u001b[0m | \u001b[0m 0.7621  \u001b[0m | \u001b[0m 0.9997  \u001b[0m | \u001b[0m 0.108   \u001b[0m | \u001b[0m 8.122   \u001b[0m | \u001b[0m 0.3578  \u001b[0m | \u001b[0m 8.265   \u001b[0m | \u001b[0m 5.128   \u001b[0m | \u001b[0m 15.6    \u001b[0m | \u001b[0m 0.8813  \u001b[0m |\n",
      "| \u001b[0m 33      \u001b[0m | \u001b[0m 0.7707  \u001b[0m | \u001b[0m 0.6226  \u001b[0m | \u001b[0m 0.8768  \u001b[0m | \u001b[0m 8.433   \u001b[0m | \u001b[0m 0.4282  \u001b[0m | \u001b[0m 13.61   \u001b[0m | \u001b[0m 9.43    \u001b[0m | \u001b[0m 1.969e+0\u001b[0m | \u001b[0m 0.6943  \u001b[0m |\n",
      "| \u001b[0m 34      \u001b[0m | \u001b[0m 0.7604  \u001b[0m | \u001b[0m 0.5295  \u001b[0m | \u001b[0m 0.1516  \u001b[0m | \u001b[0m 2.307   \u001b[0m | \u001b[0m 0.3439  \u001b[0m | \u001b[0m 11.84   \u001b[0m | \u001b[0m 16.69   \u001b[0m | \u001b[0m 1.696e+0\u001b[0m | \u001b[0m 0.2824  \u001b[0m |\n",
      "| \u001b[0m 35      \u001b[0m | \u001b[0m 0.7557  \u001b[0m | \u001b[0m 0.1393  \u001b[0m | \u001b[0m 0.1306  \u001b[0m | \u001b[0m 7.106   \u001b[0m | \u001b[0m 0.8002  \u001b[0m | \u001b[0m 7.376   \u001b[0m | \u001b[0m 16.62   \u001b[0m | \u001b[0m 143.7   \u001b[0m | \u001b[0m 0.2132  \u001b[0m |\n",
      "| \u001b[0m 36      \u001b[0m | \u001b[0m 0.7428  \u001b[0m | \u001b[0m 0.7513  \u001b[0m | \u001b[0m 0.2936  \u001b[0m | \u001b[0m 7.526   \u001b[0m | \u001b[0m 0.3162  \u001b[0m | \u001b[0m 3.08    \u001b[0m | \u001b[0m 2.661   \u001b[0m | \u001b[0m 1.346e+0\u001b[0m | \u001b[0m 0.3748  \u001b[0m |\n",
      "| \u001b[0m 37      \u001b[0m | \u001b[0m 0.7727  \u001b[0m | \u001b[0m 0.3752  \u001b[0m | \u001b[0m 0.9832  \u001b[0m | \u001b[0m 3.216   \u001b[0m | \u001b[0m 0.2546  \u001b[0m | \u001b[0m 17.78   \u001b[0m | \u001b[0m 17.34   \u001b[0m | \u001b[0m 319.5   \u001b[0m | \u001b[0m 0.2249  \u001b[0m |\n",
      "| \u001b[0m 38      \u001b[0m | \u001b[0m 0.7598  \u001b[0m | \u001b[0m 0.1753  \u001b[0m | \u001b[0m 0.6193  \u001b[0m | \u001b[0m 7.588   \u001b[0m | \u001b[0m 0.6244  \u001b[0m | \u001b[0m 16.55   \u001b[0m | \u001b[0m 14.68   \u001b[0m | \u001b[0m 1.136e+0\u001b[0m | \u001b[0m 0.6592  \u001b[0m |\n",
      "| \u001b[0m 39      \u001b[0m | \u001b[0m 0.7368  \u001b[0m | \u001b[0m 0.8082  \u001b[0m | \u001b[0m 0.7992  \u001b[0m | \u001b[0m 0.6586  \u001b[0m | \u001b[0m 0.8318  \u001b[0m | \u001b[0m 5.142   \u001b[0m | \u001b[0m 1.485   \u001b[0m | \u001b[0m 1.196e+0\u001b[0m | \u001b[0m 0.5259  \u001b[0m |\n",
      "| \u001b[0m 40      \u001b[0m | \u001b[0m 0.7776  \u001b[0m | \u001b[0m 0.2719  \u001b[0m | \u001b[0m 0.2759  \u001b[0m | \u001b[0m 8.221   \u001b[0m | \u001b[0m 0.1114  \u001b[0m | \u001b[0m 19.47   \u001b[0m | \u001b[0m 18.5    \u001b[0m | \u001b[0m 269.0   \u001b[0m | \u001b[0m 0.2761  \u001b[0m |\n"
     ]
    },
    {
     "name": "stdout",
     "output_type": "stream",
     "text": [
      "| \u001b[0m 41      \u001b[0m | \u001b[0m 0.744   \u001b[0m | \u001b[0m 0.7096  \u001b[0m | \u001b[0m 0.3527  \u001b[0m | \u001b[0m 4.185   \u001b[0m | \u001b[0m 0.2613  \u001b[0m | \u001b[0m 3.626   \u001b[0m | \u001b[0m 10.79   \u001b[0m | \u001b[0m 811.2   \u001b[0m | \u001b[0m 0.8358  \u001b[0m |\n",
      "| \u001b[0m 42      \u001b[0m | \u001b[0m 0.7547  \u001b[0m | \u001b[0m 0.2863  \u001b[0m | \u001b[0m 0.7065  \u001b[0m | \u001b[0m 2.828   \u001b[0m | \u001b[0m 0.5241  \u001b[0m | \u001b[0m 18.25   \u001b[0m | \u001b[0m 16.43   \u001b[0m | \u001b[0m 626.1   \u001b[0m | \u001b[0m 0.05493 \u001b[0m |\n",
      "| \u001b[95m 43      \u001b[0m | \u001b[95m 0.7839  \u001b[0m | \u001b[95m 0.5642  \u001b[0m | \u001b[95m 0.3834  \u001b[0m | \u001b[95m 8.611   \u001b[0m | \u001b[95m 0.02359 \u001b[0m | \u001b[95m 16.96   \u001b[0m | \u001b[95m 7.377   \u001b[0m | \u001b[95m 1.36e+03\u001b[0m | \u001b[95m 0.3763  \u001b[0m |\n",
      "| \u001b[0m 44      \u001b[0m | \u001b[0m 0.7337  \u001b[0m | \u001b[0m 0.1613  \u001b[0m | \u001b[0m 0.7397  \u001b[0m | \u001b[0m 0.6594  \u001b[0m | \u001b[0m 0.9973  \u001b[0m | \u001b[0m 16.61   \u001b[0m | \u001b[0m 8.744   \u001b[0m | \u001b[0m 1.277e+0\u001b[0m | \u001b[0m 0.5473  \u001b[0m |\n",
      "| \u001b[0m 45      \u001b[0m | \u001b[0m 0.7583  \u001b[0m | \u001b[0m 0.3203  \u001b[0m | \u001b[0m 0.05994 \u001b[0m | \u001b[0m 3.771   \u001b[0m | \u001b[0m 0.5949  \u001b[0m | \u001b[0m 11.64   \u001b[0m | \u001b[0m 12.47   \u001b[0m | \u001b[0m 753.0   \u001b[0m | \u001b[0m 0.8456  \u001b[0m |\n",
      "| \u001b[0m 46      \u001b[0m | \u001b[0m 0.7538  \u001b[0m | \u001b[0m 0.1563  \u001b[0m | \u001b[0m 0.2626  \u001b[0m | \u001b[0m 1.517   \u001b[0m | \u001b[0m 0.5289  \u001b[0m | \u001b[0m 14.99   \u001b[0m | \u001b[0m 9.945   \u001b[0m | \u001b[0m 644.8   \u001b[0m | \u001b[0m 0.3547  \u001b[0m |\n",
      "| \u001b[0m 47      \u001b[0m | \u001b[0m 0.7838  \u001b[0m | \u001b[0m 0.4903  \u001b[0m | \u001b[0m 0.434   \u001b[0m | \u001b[0m 9.084   \u001b[0m | \u001b[0m 0.1203  \u001b[0m | \u001b[0m 17.92   \u001b[0m | \u001b[0m 13.5    \u001b[0m | \u001b[0m 1.847e+0\u001b[0m | \u001b[0m 0.8328  \u001b[0m |\n",
      "| \u001b[0m 48      \u001b[0m | \u001b[0m 0.7742  \u001b[0m | \u001b[0m 0.5986  \u001b[0m | \u001b[0m 0.2958  \u001b[0m | \u001b[0m 9.05    \u001b[0m | \u001b[0m 0.5028  \u001b[0m | \u001b[0m 10.8    \u001b[0m | \u001b[0m 10.9    \u001b[0m | \u001b[0m 1.718e+0\u001b[0m | \u001b[0m 0.3343  \u001b[0m |\n",
      "| \u001b[0m 49      \u001b[0m | \u001b[0m 0.7378  \u001b[0m | \u001b[0m 0.1924  \u001b[0m | \u001b[0m 0.8339  \u001b[0m | \u001b[0m 0.4313  \u001b[0m | \u001b[0m 0.8962  \u001b[0m | \u001b[0m 2.797   \u001b[0m | \u001b[0m 4.586   \u001b[0m | \u001b[0m 1.698e+0\u001b[0m | \u001b[0m 0.331   \u001b[0m |\n",
      "| \u001b[0m 50      \u001b[0m | \u001b[0m 0.7587  \u001b[0m | \u001b[0m 0.4238  \u001b[0m | \u001b[0m 0.04975 \u001b[0m | \u001b[0m 9.013   \u001b[0m | \u001b[0m 0.6651  \u001b[0m | \u001b[0m 17.73   \u001b[0m | \u001b[0m 2.854   \u001b[0m | \u001b[0m 494.1   \u001b[0m | \u001b[0m 0.5416  \u001b[0m |\n",
      "| \u001b[0m 51      \u001b[0m | \u001b[0m 0.7308  \u001b[0m | \u001b[0m 0.6216  \u001b[0m | \u001b[0m 0.4302  \u001b[0m | \u001b[0m 2.055   \u001b[0m | \u001b[0m 0.2529  \u001b[0m | \u001b[0m 2.034   \u001b[0m | \u001b[0m 13.59   \u001b[0m | \u001b[0m 1.192e+0\u001b[0m | \u001b[0m 0.09331 \u001b[0m |\n",
      "| \u001b[0m 52      \u001b[0m | \u001b[0m 0.7411  \u001b[0m | \u001b[0m 0.5576  \u001b[0m | \u001b[0m 0.4033  \u001b[0m | \u001b[0m 1.644   \u001b[0m | \u001b[0m 0.7168  \u001b[0m | \u001b[0m 13.59   \u001b[0m | \u001b[0m 8.358   \u001b[0m | \u001b[0m 383.7   \u001b[0m | \u001b[0m 0.0876  \u001b[0m |\n",
      "| \u001b[0m 53      \u001b[0m | \u001b[0m 0.7617  \u001b[0m | \u001b[0m 0.4379  \u001b[0m | \u001b[0m 0.6563  \u001b[0m | \u001b[0m 9.684   \u001b[0m | \u001b[0m 0.7233  \u001b[0m | \u001b[0m 14.79   \u001b[0m | \u001b[0m 12.68   \u001b[0m | \u001b[0m 1.845e+0\u001b[0m | \u001b[0m 0.2672  \u001b[0m |\n",
      "| \u001b[0m 54      \u001b[0m | \u001b[0m 0.7436  \u001b[0m | \u001b[0m 0.7105  \u001b[0m | \u001b[0m 0.8033  \u001b[0m | \u001b[0m 9.867   \u001b[0m | \u001b[0m 0.9732  \u001b[0m | \u001b[0m 19.74   \u001b[0m | \u001b[0m 7.59    \u001b[0m | \u001b[0m 1.361e+0\u001b[0m | \u001b[0m 0.298   \u001b[0m |\n",
      "| \u001b[0m 55      \u001b[0m | \u001b[0m 0.7491  \u001b[0m | \u001b[0m 0.5192  \u001b[0m | \u001b[0m 0.8813  \u001b[0m | \u001b[0m 2.766   \u001b[0m | \u001b[0m 0.6705  \u001b[0m | \u001b[0m 3.432   \u001b[0m | \u001b[0m 16.43   \u001b[0m | \u001b[0m 1.601e+0\u001b[0m | \u001b[0m 0.6882  \u001b[0m |\n",
      "| \u001b[0m 56      \u001b[0m | \u001b[0m 0.7407  \u001b[0m | \u001b[0m 0.9851  \u001b[0m | \u001b[0m 0.7748  \u001b[0m | \u001b[0m 2.047   \u001b[0m | \u001b[0m 0.8753  \u001b[0m | \u001b[0m 5.3     \u001b[0m | \u001b[0m 15.06   \u001b[0m | \u001b[0m 1.165e+0\u001b[0m | \u001b[0m 0.5646  \u001b[0m |\n",
      "| \u001b[0m 57      \u001b[0m | \u001b[0m 0.7445  \u001b[0m | \u001b[0m 0.9378  \u001b[0m | \u001b[0m 0.3246  \u001b[0m | \u001b[0m 4.506   \u001b[0m | \u001b[0m 0.7797  \u001b[0m | \u001b[0m 8.702   \u001b[0m | \u001b[0m 18.06   \u001b[0m | \u001b[0m 207.5   \u001b[0m | \u001b[0m 0.5727  \u001b[0m |\n",
      "| \u001b[0m 58      \u001b[0m | \u001b[0m 0.7258  \u001b[0m | \u001b[0m 0.9504  \u001b[0m | \u001b[0m 0.08478 \u001b[0m | \u001b[0m 4.689   \u001b[0m | \u001b[0m 0.9358  \u001b[0m | \u001b[0m 16.83   \u001b[0m | \u001b[0m 7.251   \u001b[0m | \u001b[0m 420.2   \u001b[0m | \u001b[0m 0.01618 \u001b[0m |\n",
      "| \u001b[0m 59      \u001b[0m | \u001b[0m 0.7764  \u001b[0m | \u001b[0m 0.2803  \u001b[0m | \u001b[0m 0.3889  \u001b[0m | \u001b[0m 4.973   \u001b[0m | \u001b[0m 0.1266  \u001b[0m | \u001b[0m 8.046   \u001b[0m | \u001b[0m 8.617   \u001b[0m | \u001b[0m 815.7   \u001b[0m | \u001b[0m 0.7779  \u001b[0m |\n",
      "| \u001b[0m 60      \u001b[0m | \u001b[0m 0.7545  \u001b[0m | \u001b[0m 0.1979  \u001b[0m | \u001b[0m 0.1041  \u001b[0m | \u001b[0m 0.1873  \u001b[0m | \u001b[0m 0.4415  \u001b[0m | \u001b[0m 14.72   \u001b[0m | \u001b[0m 9.368   \u001b[0m | \u001b[0m 1.783e+0\u001b[0m | \u001b[0m 0.3902  \u001b[0m |\n",
      "| \u001b[0m 61      \u001b[0m | \u001b[0m 0.7457  \u001b[0m | \u001b[0m 0.936   \u001b[0m | \u001b[0m 0.7899  \u001b[0m | \u001b[0m 5.455   \u001b[0m | \u001b[0m 0.7361  \u001b[0m | \u001b[0m 19.95   \u001b[0m | \u001b[0m 19.94   \u001b[0m | \u001b[0m 1.562e+0\u001b[0m | \u001b[0m 0.5108  \u001b[0m |\n",
      "| \u001b[0m 62      \u001b[0m | \u001b[0m 0.7509  \u001b[0m | \u001b[0m 0.4986  \u001b[0m | \u001b[0m 0.07851 \u001b[0m | \u001b[0m 6.792   \u001b[0m | \u001b[0m 0.7253  \u001b[0m | \u001b[0m 7.656   \u001b[0m | \u001b[0m 6.497   \u001b[0m | \u001b[0m 361.5   \u001b[0m | \u001b[0m 0.4447  \u001b[0m |\n",
      "| \u001b[0m 63      \u001b[0m | \u001b[0m 0.7481  \u001b[0m | \u001b[0m 0.5821  \u001b[0m | \u001b[0m 0.4057  \u001b[0m | \u001b[0m 8.145   \u001b[0m | \u001b[0m 0.9613  \u001b[0m | \u001b[0m 14.18   \u001b[0m | \u001b[0m 16.8    \u001b[0m | \u001b[0m 137.3   \u001b[0m | \u001b[0m 0.1352  \u001b[0m |\n",
      "| \u001b[0m 64      \u001b[0m | \u001b[0m 0.7733  \u001b[0m | \u001b[0m 0.4088  \u001b[0m | \u001b[0m 0.2034  \u001b[0m | \u001b[0m 6.615   \u001b[0m | \u001b[0m 0.3763  \u001b[0m | \u001b[0m 16.75   \u001b[0m | \u001b[0m 10.04   \u001b[0m | \u001b[0m 1.298e+0\u001b[0m | \u001b[0m 0.5363  \u001b[0m |\n",
      "| \u001b[0m 65      \u001b[0m | \u001b[0m 0.7248  \u001b[0m | \u001b[0m 0.594   \u001b[0m | \u001b[0m 0.7698  \u001b[0m | \u001b[0m 6.522   \u001b[0m | \u001b[0m 0.3449  \u001b[0m | \u001b[0m 2.929   \u001b[0m | \u001b[0m 6.346   \u001b[0m | \u001b[0m 766.0   \u001b[0m | \u001b[0m 0.7154  \u001b[0m |\n",
      "| \u001b[0m 66      \u001b[0m | \u001b[0m 0.7799  \u001b[0m | \u001b[0m 0.2276  \u001b[0m | \u001b[0m 0.4437  \u001b[0m | \u001b[0m 4.435   \u001b[0m | \u001b[0m 0.1581  \u001b[0m | \u001b[0m 15.48   \u001b[0m | \u001b[0m 9.655   \u001b[0m | \u001b[0m 1.937e+0\u001b[0m | \u001b[0m 0.7688  \u001b[0m |\n",
      "| \u001b[0m 67      \u001b[0m | \u001b[0m 0.7408  \u001b[0m | \u001b[0m 0.4583  \u001b[0m | \u001b[0m 0.9996  \u001b[0m | \u001b[0m 5.633   \u001b[0m | \u001b[0m 0.9828  \u001b[0m | \u001b[0m 18.76   \u001b[0m | \u001b[0m 18.58   \u001b[0m | \u001b[0m 473.5   \u001b[0m | \u001b[0m 0.4042  \u001b[0m |\n",
      "| \u001b[0m 68      \u001b[0m | \u001b[0m 0.7601  \u001b[0m | \u001b[0m 0.4584  \u001b[0m | \u001b[0m 0.5616  \u001b[0m | \u001b[0m 3.3     \u001b[0m | \u001b[0m 0.4835  \u001b[0m | \u001b[0m 15.38   \u001b[0m | \u001b[0m 12.43   \u001b[0m | \u001b[0m 248.1   \u001b[0m | \u001b[0m 0.5869  \u001b[0m |\n",
      "| \u001b[0m 69      \u001b[0m | \u001b[0m 0.7704  \u001b[0m | \u001b[0m 0.7693  \u001b[0m | \u001b[0m 0.7975  \u001b[0m | \u001b[0m 2.661   \u001b[0m | \u001b[0m 0.2063  \u001b[0m | \u001b[0m 14.87   \u001b[0m | \u001b[0m 16.06   \u001b[0m | \u001b[0m 1.679e+0\u001b[0m | \u001b[0m 0.01361 \u001b[0m |\n",
      "| \u001b[0m 70      \u001b[0m | \u001b[0m 0.7559  \u001b[0m | \u001b[0m 0.6197  \u001b[0m | \u001b[0m 0.8151  \u001b[0m | \u001b[0m 1.993   \u001b[0m | \u001b[0m 0.6162  \u001b[0m | \u001b[0m 4.683   \u001b[0m | \u001b[0m 18.19   \u001b[0m | \u001b[0m 1.231e+0\u001b[0m | \u001b[0m 0.9546  \u001b[0m |\n",
      "| \u001b[0m 71      \u001b[0m | \u001b[0m 0.7518  \u001b[0m | \u001b[0m 0.4467  \u001b[0m | \u001b[0m 0.5322  \u001b[0m | \u001b[0m 1.959   \u001b[0m | \u001b[0m 0.5877  \u001b[0m | \u001b[0m 19.0    \u001b[0m | \u001b[0m 4.489   \u001b[0m | \u001b[0m 700.7   \u001b[0m | \u001b[0m 0.252   \u001b[0m |\n",
      "| \u001b[0m 72      \u001b[0m | \u001b[0m 0.7529  \u001b[0m | \u001b[0m 0.4431  \u001b[0m | \u001b[0m 0.7667  \u001b[0m | \u001b[0m 4.511   \u001b[0m | \u001b[0m 0.7635  \u001b[0m | \u001b[0m 9.196   \u001b[0m | \u001b[0m 4.018   \u001b[0m | \u001b[0m 843.9   \u001b[0m | \u001b[0m 0.2778  \u001b[0m |\n",
      "| \u001b[0m 73      \u001b[0m | \u001b[0m 0.7486  \u001b[0m | \u001b[0m 0.979   \u001b[0m | \u001b[0m 0.5728  \u001b[0m | \u001b[0m 3.253   \u001b[0m | \u001b[0m 0.6426  \u001b[0m | \u001b[0m 19.66   \u001b[0m | \u001b[0m 16.3    \u001b[0m | \u001b[0m 1.903e+0\u001b[0m | \u001b[0m 0.4561  \u001b[0m |\n",
      "| \u001b[0m 74      \u001b[0m | \u001b[0m 0.7441  \u001b[0m | \u001b[0m 0.8204  \u001b[0m | \u001b[0m 0.5391  \u001b[0m | \u001b[0m 3.061   \u001b[0m | \u001b[0m 0.7652  \u001b[0m | \u001b[0m 10.88   \u001b[0m | \u001b[0m 17.0    \u001b[0m | \u001b[0m 1.696e+0\u001b[0m | \u001b[0m 0.3525  \u001b[0m |\n",
      "| \u001b[0m 75      \u001b[0m | \u001b[0m 0.7388  \u001b[0m | \u001b[0m 0.9616  \u001b[0m | \u001b[0m 0.6634  \u001b[0m | \u001b[0m 6.919   \u001b[0m | \u001b[0m 0.917   \u001b[0m | \u001b[0m 14.09   \u001b[0m | \u001b[0m 4.819   \u001b[0m | \u001b[0m 804.8   \u001b[0m | \u001b[0m 0.1622  \u001b[0m |\n",
      "| \u001b[0m 76      \u001b[0m | \u001b[0m 0.7597  \u001b[0m | \u001b[0m 0.8639  \u001b[0m | \u001b[0m 0.9863  \u001b[0m | \u001b[0m 6.255   \u001b[0m | \u001b[0m 0.3545  \u001b[0m | \u001b[0m 5.805   \u001b[0m | \u001b[0m 10.43   \u001b[0m | \u001b[0m 1.826e+0\u001b[0m | \u001b[0m 0.1582  \u001b[0m |\n",
      "| \u001b[0m 77      \u001b[0m | \u001b[0m 0.7748  \u001b[0m | \u001b[0m 0.9903  \u001b[0m | \u001b[0m 0.7025  \u001b[0m | \u001b[0m 5.28    \u001b[0m | \u001b[0m 0.3678  \u001b[0m | \u001b[0m 12.13   \u001b[0m | \u001b[0m 12.84   \u001b[0m | \u001b[0m 1.618e+0\u001b[0m | \u001b[0m 0.6944  \u001b[0m |\n",
      "| \u001b[0m 78      \u001b[0m | \u001b[0m 0.7795  \u001b[0m | \u001b[0m 0.8694  \u001b[0m | \u001b[0m 0.5335  \u001b[0m | \u001b[0m 7.567   \u001b[0m | \u001b[0m 0.1336  \u001b[0m | \u001b[0m 13.11   \u001b[0m | \u001b[0m 13.25   \u001b[0m | \u001b[0m 1.548e+0\u001b[0m | \u001b[0m 0.05294 \u001b[0m |\n",
      "| \u001b[0m 79      \u001b[0m | \u001b[0m 0.7469  \u001b[0m | \u001b[0m 0.3342  \u001b[0m | \u001b[0m 0.2888  \u001b[0m | \u001b[0m 3.253   \u001b[0m | \u001b[0m 0.7809  \u001b[0m | \u001b[0m 3.532   \u001b[0m | \u001b[0m 11.02   \u001b[0m | \u001b[0m 611.4   \u001b[0m | \u001b[0m 0.97    \u001b[0m |\n",
      "| \u001b[0m 80      \u001b[0m | \u001b[0m 0.7611  \u001b[0m | \u001b[0m 0.4196  \u001b[0m | \u001b[0m 0.6892  \u001b[0m | \u001b[0m 7.537   \u001b[0m | \u001b[0m 0.6346  \u001b[0m | \u001b[0m 7.473   \u001b[0m | \u001b[0m 3.871   \u001b[0m | \u001b[0m 1.512e+0\u001b[0m | \u001b[0m 0.8881  \u001b[0m |\n",
      "| \u001b[0m 81      \u001b[0m | \u001b[0m 0.7609  \u001b[0m | \u001b[0m 0.2557  \u001b[0m | \u001b[0m 0.2919  \u001b[0m | \u001b[0m 5.544   \u001b[0m | \u001b[0m 0.5323  \u001b[0m | \u001b[0m 19.83   \u001b[0m | \u001b[0m 15.6    \u001b[0m | \u001b[0m 692.5   \u001b[0m | \u001b[0m 0.1621  \u001b[0m |\n"
     ]
    },
    {
     "name": "stdout",
     "output_type": "stream",
     "text": [
      "| \u001b[0m 82      \u001b[0m | \u001b[0m 0.7586  \u001b[0m | \u001b[0m 0.5451  \u001b[0m | \u001b[0m 0.2317  \u001b[0m | \u001b[0m 1.045   \u001b[0m | \u001b[0m 0.3038  \u001b[0m | \u001b[0m 12.69   \u001b[0m | \u001b[0m 18.14   \u001b[0m | \u001b[0m 549.6   \u001b[0m | \u001b[0m 0.4598  \u001b[0m |\n",
      "| \u001b[0m 83      \u001b[0m | \u001b[0m 0.7668  \u001b[0m | \u001b[0m 0.4088  \u001b[0m | \u001b[0m 0.1758  \u001b[0m | \u001b[0m 1.014   \u001b[0m | \u001b[0m 0.3236  \u001b[0m | \u001b[0m 19.97   \u001b[0m | \u001b[0m 2.104   \u001b[0m | \u001b[0m 875.3   \u001b[0m | \u001b[0m 0.3756  \u001b[0m |\n",
      "| \u001b[0m 84      \u001b[0m | \u001b[0m 0.7658  \u001b[0m | \u001b[0m 0.5578  \u001b[0m | \u001b[0m 0.1863  \u001b[0m | \u001b[0m 8.296   \u001b[0m | \u001b[0m 0.6081  \u001b[0m | \u001b[0m 13.64   \u001b[0m | \u001b[0m 5.693   \u001b[0m | \u001b[0m 1.921e+0\u001b[0m | \u001b[0m 0.8694  \u001b[0m |\n",
      "| \u001b[0m 85      \u001b[0m | \u001b[0m 0.738   \u001b[0m | \u001b[0m 0.8596  \u001b[0m | \u001b[0m 0.5877  \u001b[0m | \u001b[0m 3.415   \u001b[0m | \u001b[0m 0.8418  \u001b[0m | \u001b[0m 13.41   \u001b[0m | \u001b[0m 17.98   \u001b[0m | \u001b[0m 1.621e+0\u001b[0m | \u001b[0m 0.1848  \u001b[0m |\n",
      "| \u001b[0m 86      \u001b[0m | \u001b[0m 0.7492  \u001b[0m | \u001b[0m 0.3756  \u001b[0m | \u001b[0m 0.311   \u001b[0m | \u001b[0m 0.8898  \u001b[0m | \u001b[0m 0.6334  \u001b[0m | \u001b[0m 3.974   \u001b[0m | \u001b[0m 18.85   \u001b[0m | \u001b[0m 845.3   \u001b[0m | \u001b[0m 0.6384  \u001b[0m |\n",
      "| \u001b[0m 87      \u001b[0m | \u001b[0m 0.7813  \u001b[0m | \u001b[0m 0.4679  \u001b[0m | \u001b[0m 0.4322  \u001b[0m | \u001b[0m 9.96    \u001b[0m | \u001b[0m 0.04797 \u001b[0m | \u001b[0m 14.93   \u001b[0m | \u001b[0m 15.07   \u001b[0m | \u001b[0m 1.974e+0\u001b[0m | \u001b[0m 0.01807 \u001b[0m |\n",
      "| \u001b[0m 88      \u001b[0m | \u001b[0m 0.7615  \u001b[0m | \u001b[0m 0.7543  \u001b[0m | \u001b[0m 0.3733  \u001b[0m | \u001b[0m 2.727   \u001b[0m | \u001b[0m 0.4086  \u001b[0m | \u001b[0m 11.86   \u001b[0m | \u001b[0m 5.507   \u001b[0m | \u001b[0m 245.5   \u001b[0m | \u001b[0m 0.3052  \u001b[0m |\n",
      "| \u001b[0m 89      \u001b[0m | \u001b[0m 0.7639  \u001b[0m | \u001b[0m 0.7637  \u001b[0m | \u001b[0m 0.4178  \u001b[0m | \u001b[0m 5.821   \u001b[0m | \u001b[0m 0.5778  \u001b[0m | \u001b[0m 6.884   \u001b[0m | \u001b[0m 17.4    \u001b[0m | \u001b[0m 1.381e+0\u001b[0m | \u001b[0m 0.8314  \u001b[0m |\n",
      "| \u001b[0m 90      \u001b[0m | \u001b[0m 0.755   \u001b[0m | \u001b[0m 0.5841  \u001b[0m | \u001b[0m 0.3405  \u001b[0m | \u001b[0m 3.532   \u001b[0m | \u001b[0m 0.4953  \u001b[0m | \u001b[0m 13.35   \u001b[0m | \u001b[0m 12.0    \u001b[0m | \u001b[0m 1.371e+0\u001b[0m | \u001b[0m 0.07156 \u001b[0m |\n",
      "| \u001b[0m 91      \u001b[0m | \u001b[0m 0.7727  \u001b[0m | \u001b[0m 0.3371  \u001b[0m | \u001b[0m 0.1276  \u001b[0m | \u001b[0m 3.771   \u001b[0m | \u001b[0m 0.2359  \u001b[0m | \u001b[0m 12.24   \u001b[0m | \u001b[0m 8.224   \u001b[0m | \u001b[0m 555.7   \u001b[0m | \u001b[0m 0.2989  \u001b[0m |\n",
      "| \u001b[0m 92      \u001b[0m | \u001b[0m 0.7549  \u001b[0m | \u001b[0m 0.5271  \u001b[0m | \u001b[0m 0.6102  \u001b[0m | \u001b[0m 4.889   \u001b[0m | \u001b[0m 0.6963  \u001b[0m | \u001b[0m 9.453   \u001b[0m | \u001b[0m 18.29   \u001b[0m | \u001b[0m 1.566e+0\u001b[0m | \u001b[0m 0.8866  \u001b[0m |\n",
      "| \u001b[0m 93      \u001b[0m | \u001b[0m 0.7756  \u001b[0m | \u001b[0m 0.1401  \u001b[0m | \u001b[0m 0.04677 \u001b[0m | \u001b[0m 2.836   \u001b[0m | \u001b[0m 0.1651  \u001b[0m | \u001b[0m 17.84   \u001b[0m | \u001b[0m 8.63    \u001b[0m | \u001b[0m 378.0   \u001b[0m | \u001b[0m 0.8963  \u001b[0m |\n",
      "| \u001b[0m 94      \u001b[0m | \u001b[0m 0.7648  \u001b[0m | \u001b[0m 0.4327  \u001b[0m | \u001b[0m 0.5288  \u001b[0m | \u001b[0m 4.269   \u001b[0m | \u001b[0m 0.4953  \u001b[0m | \u001b[0m 11.09   \u001b[0m | \u001b[0m 7.198   \u001b[0m | \u001b[0m 1.63e+03\u001b[0m | \u001b[0m 0.1665  \u001b[0m |\n",
      "| \u001b[0m 95      \u001b[0m | \u001b[0m 0.77    \u001b[0m | \u001b[0m 0.7088  \u001b[0m | \u001b[0m 0.8398  \u001b[0m | \u001b[0m 6.825   \u001b[0m | \u001b[0m 0.4074  \u001b[0m | \u001b[0m 16.7    \u001b[0m | \u001b[0m 9.849   \u001b[0m | \u001b[0m 467.6   \u001b[0m | \u001b[0m 0.8029  \u001b[0m |\n",
      "| \u001b[0m 96      \u001b[0m | \u001b[0m 0.7548  \u001b[0m | \u001b[0m 0.9314  \u001b[0m | \u001b[0m 0.5604  \u001b[0m | \u001b[0m 5.412   \u001b[0m | \u001b[0m 0.6068  \u001b[0m | \u001b[0m 14.94   \u001b[0m | \u001b[0m 7.121   \u001b[0m | \u001b[0m 663.5   \u001b[0m | \u001b[0m 0.2351  \u001b[0m |\n",
      "| \u001b[0m 97      \u001b[0m | \u001b[0m 0.773   \u001b[0m | \u001b[0m 0.5129  \u001b[0m | \u001b[0m 0.5103  \u001b[0m | \u001b[0m 2.821   \u001b[0m | \u001b[0m 0.3     \u001b[0m | \u001b[0m 5.21    \u001b[0m | \u001b[0m 7.045   \u001b[0m | \u001b[0m 1.85e+03\u001b[0m | \u001b[0m 0.9303  \u001b[0m |\n",
      "| \u001b[0m 98      \u001b[0m | \u001b[0m 0.7595  \u001b[0m | \u001b[0m 0.5415  \u001b[0m | \u001b[0m 0.6134  \u001b[0m | \u001b[0m 6.853   \u001b[0m | \u001b[0m 0.8597  \u001b[0m | \u001b[0m 9.106   \u001b[0m | \u001b[0m 1.394   \u001b[0m | \u001b[0m 941.9   \u001b[0m | \u001b[0m 0.7671  \u001b[0m |\n",
      "| \u001b[0m 99      \u001b[0m | \u001b[0m 0.7649  \u001b[0m | \u001b[0m 0.1853  \u001b[0m | \u001b[0m 0.07708 \u001b[0m | \u001b[0m 2.446   \u001b[0m | \u001b[0m 0.3082  \u001b[0m | \u001b[0m 16.41   \u001b[0m | \u001b[0m 9.947   \u001b[0m | \u001b[0m 1.63e+03\u001b[0m | \u001b[0m 0.3998  \u001b[0m |\n",
      "| \u001b[0m 100     \u001b[0m | \u001b[0m 0.7568  \u001b[0m | \u001b[0m 0.7721  \u001b[0m | \u001b[0m 0.3354  \u001b[0m | \u001b[0m 2.166   \u001b[0m | \u001b[0m 0.4099  \u001b[0m | \u001b[0m 19.83   \u001b[0m | \u001b[0m 11.16   \u001b[0m | \u001b[0m 1.693e+0\u001b[0m | \u001b[0m 0.2135  \u001b[0m |\n",
      "=========================================================================================================================\n"
     ]
    }
   ],
   "source": [
    "from bayes_opt import BayesianOptimization\n",
    "\n",
    "# alpha is a parameter for the gaussian process\n",
    "# Note that this is itself a hyperparemter that can be optimized.\n",
    "gp_params = {\"alpha\": 1e-10}\n",
    "\n",
    "# We create the BayesianOptimization objects using the functions that utilize\n",
    "# the respective classifiers and return cross-validated scores to be optimized.\n",
    "\n",
    "seed = 112 # Random seed\n",
    "\n",
    "# We create the bayes_opt object and pass the function to be maximized\n",
    "# together with the parameters names and their bounds.\n",
    "# Note the syntax of bayes_opt package: bounds of hyperparameters are passed as two-tuples\n",
    "\n",
    "hyperparameter_space = {\n",
    "    'max_depth': (2,20),\n",
    "    'learning_rate': (0,1),\n",
    "    'n_estimators' : (10,2000),\n",
    "    'reg_alpha': (0,1),\n",
    "    'min_child_weight': (1, 20),\n",
    "    'colsample_bytree': (0.1, 1),\n",
    "    'gamma' : (0,10),\n",
    "    'eta' : (0,1)\n",
    "}\n",
    "\n",
    "xgbcBO = BayesianOptimization(f = xgbc_cv, \n",
    "                             pbounds =  hyperparameter_space,\n",
    "                             random_state = seed,\n",
    "                             verbose = 10)\n",
    "\n",
    "# Finally we call .maximize method of the optimizer with the appropriate arguments\n",
    "# kappa is a measure of 'aggressiveness' of the bayesian optimization process\n",
    "# The algorithm will randomly choose 3 points to establish a 'prior', then will perform \n",
    "# 10 interations to maximize the value of estimator function\n",
    "xgbcBO.maximize(init_points=50,n_iter=50,acq='ucb', kappa= 3, **gp_params)"
   ]
  },
  {
   "cell_type": "code",
   "execution_count": 48,
   "metadata": {},
   "outputs": [
    {
     "data": {
      "text/plain": [
       "{'target': 0.7839440898264427,\n",
       " 'params': {'colsample_bytree': 0.5642096076799697,\n",
       "  'eta': 0.3834387945091807,\n",
       "  'gamma': 8.610852734270589,\n",
       "  'learning_rate': 0.02358712994362988,\n",
       "  'max_depth': 16.95907860596403,\n",
       "  'min_child_weight': 7.376622284435268,\n",
       "  'n_estimators': 1359.7156751530044,\n",
       "  'reg_alpha': 0.37634400511307364}}"
      ]
     },
     "execution_count": 48,
     "metadata": {},
     "output_type": "execute_result"
    }
   ],
   "source": [
    "xgbcBO.max"
   ]
  },
  {
   "cell_type": "code",
   "execution_count": 49,
   "metadata": {},
   "outputs": [
    {
     "data": {
      "text/plain": [
       "XGBClassifier(base_score=0.5, booster='gbtree', colsample_bylevel=1,\n",
       "              colsample_bynode=1, colsample_bytree=0.5642096076799697,\n",
       "              eta=0.3834387945091807, gamma=8.610852734270589, gpu_id=-1,\n",
       "              importance_type='gain', interaction_constraints='',\n",
       "              learning_rate=0.0028164203318438163, max_delta_step=0,\n",
       "              max_depth=17, min_child_weight=7, missing=nan,\n",
       "              monotone_constraints='()', n_estimators=1359, n_jobs=-1,\n",
       "              nthread=-1, num_parallel_tree=1, random_state=112,\n",
       "              reg_alpha=0.37634400511307364, reg_lambda=1, scale_pos_weight=1,\n",
       "              seed=112, subsample=1, tree_method='exact', validate_parameters=1,\n",
       "              verbosity=None)"
      ]
     },
     "execution_count": 49,
     "metadata": {},
     "output_type": "execute_result"
    }
   ],
   "source": [
    "finalmod = xgb.XGBClassifier(max_depth=17,\n",
    "                             learning_rate= 0.0028164203318438163,\n",
    "                             n_estimators= 1359,\n",
    "                             reg_alpha = 0.37634400511307364,\n",
    "                             colsample_bytree= 0.5642096076799697,\n",
    "                             gamma=8.610852734270589,\n",
    "                             min_child_weight= 7,\n",
    "                             eta=0.3834387945091807,\n",
    "                             objective='binary:logistic',\n",
    "                             nthread = -1,\n",
    "                             seed = seed)\n",
    "   # Fit the estimator\n",
    "finalmod.fit(x_train,y_train)"
   ]
  },
  {
   "cell_type": "code",
   "execution_count": 50,
   "metadata": {},
   "outputs": [],
   "source": [
    "def feature_importance(model, X_train):\n",
    "\n",
    "    fI = model.feature_importances_\n",
    "    \n",
    "    print(fI)\n",
    "    \n",
    "    names = x_train.columns.values\n",
    "    \n",
    "    ticks = [i for i in range(len(names))]\n",
    "    \n",
    "    plt.bar(ticks, fI)\n",
    "    \n",
    "    plt.xticks(ticks, names,rotation = 90)\n",
    "    \n",
    "    plt.show()"
   ]
  },
  {
   "cell_type": "code",
   "execution_count": 51,
   "metadata": {},
   "outputs": [
    {
     "name": "stdout",
     "output_type": "stream",
     "text": [
      "[0.02720774 0.06690587 0.09588172 0.03046534 0.02553498 0.02712121\n",
      " 0.02816663 0.02013546 0.01945785 0.02022439 0.03958564 0.04005047\n",
      " 0.04830451 0.04262925 0.04030006 0.02225379 0.0223363  0.02123443\n",
      " 0.0242486  0.03296133 0.03008867 0.05913854 0.04769183 0.02093462\n",
      " 0.06791966 0.03873269 0.04048842]\n"
     ]
    },
    {
     "data": {
      "image/png": "[encoded data removed]",
      "text/plain": [
       "<Figure size 432x288 with 1 Axes>"
      ]
     },
     "metadata": {
      "needs_background": "light"
     },
     "output_type": "display_data"
    }
   ],
   "source": [
    "feature_importance(finalmod,x_train)"
   ]
  },
  {
   "cell_type": "code",
   "execution_count": 52,
   "metadata": {},
   "outputs": [],
   "source": [
    "test_df2=test_df1.drop(['ID'],axis=1)\n",
    "probs = finalmod.predict_proba(test_df2)\n",
    "probs = probs[:,1]\n",
    "test_df1['Response']=probs"
   ]
  },
  {
   "cell_type": "code",
   "execution_count": 54,
   "metadata": {},
   "outputs": [],
   "source": [
    "df_out=test_df1[['ID','Response']]\n",
    "df_out.to_csv('prediction10.csv',index=False)"
   ]
  },
  {
   "cell_type": "code",
   "execution_count": null,
   "metadata": {},
   "outputs": [],
   "source": []
  }
 ],
 "metadata": {
  "kernelspec": {
   "display_name": "Python 3",
   "language": "python",
   "name": "python3"
  },
  "language_info": {
   "codemirror_mode": {
    "name": "ipython",
    "version": 3
   },
   "file_extension": ".py",
   "mimetype": "text/x-python",
   "name": "python",
   "nbconvert_exporter": "python",
   "pygments_lexer": "ipython3",
   "version": "3.7.6"
  }
 },
 "nbformat": 4,
 "nbformat_minor": 4
}
